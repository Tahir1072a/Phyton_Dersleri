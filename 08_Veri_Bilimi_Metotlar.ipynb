{
 "cells": [
  {
   "cell_type": "markdown",
   "id": "d729daac",
   "metadata": {},
   "source": [
    "# range"
   ]
  },
  {
   "cell_type": "code",
   "execution_count": 1,
   "id": "c894b130",
   "metadata": {},
   "outputs": [
    {
     "data": {
      "text/plain": [
       "range(0, 15)"
      ]
     },
     "execution_count": 1,
     "metadata": {},
     "output_type": "execute_result"
    }
   ],
   "source": [
    "range(0,15)"
   ]
  },
  {
   "cell_type": "code",
   "execution_count": 7,
   "id": "5afec2fe",
   "metadata": {},
   "outputs": [
    {
     "data": {
      "text/plain": [
       "[0, 1, 2, 3, 4, 5, 6, 7, 8, 9, 10, 11, 12, 13, 14]"
      ]
     },
     "execution_count": 7,
     "metadata": {},
     "output_type": "execute_result"
    }
   ],
   "source": [
    "list(range(0,15))"
   ]
  },
  {
   "cell_type": "code",
   "execution_count": 9,
   "id": "2713c287",
   "metadata": {},
   "outputs": [
    {
     "data": {
      "text/plain": [
       "[0, 25, 50, 75, 100]"
      ]
     },
     "execution_count": 9,
     "metadata": {},
     "output_type": "execute_result"
    }
   ],
   "source": [
    "list(range(0,120,25))"
   ]
  },
  {
   "cell_type": "markdown",
   "id": "8feea511",
   "metadata": {},
   "source": [
    "bu şekilde range metounu kullanabiliriz. Range sayesinde hızlı bir şekilde belli aralıklarda listler tanımlayabilir."
   ]
  },
  {
   "cell_type": "markdown",
   "id": "de0e5ac4",
   "metadata": {},
   "source": [
    "# enumerate"
   ]
  },
  {
   "cell_type": "code",
   "execution_count": 11,
   "id": "df5ccab5",
   "metadata": {},
   "outputs": [
    {
     "name": "stdout",
     "output_type": "stream",
     "text": [
      "güncel numara : 5 güncel index : 0\n",
      "güncel numara : 6 güncel index : 1\n",
      "güncel numara : 7 güncel index : 2\n",
      "güncel numara : 8 güncel index : 3\n",
      "güncel numara : 9 güncel index : 4\n",
      "güncel numara : 10 güncel index : 5\n",
      "güncel numara : 11 güncel index : 6\n",
      "güncel numara : 12 güncel index : 7\n",
      "güncel numara : 13 güncel index : 8\n",
      "güncel numara : 14 güncel index : 9\n"
     ]
    }
   ],
   "source": [
    "index = 0\n",
    "for numara in list(range(5,15)):\n",
    "    print(f\"güncel numara : {numara} güncel index : {index}\")\n",
    "    index += 1"
   ]
  },
  {
   "cell_type": "code",
   "execution_count": 15,
   "id": "ca25f703",
   "metadata": {},
   "outputs": [
    {
     "name": "stdout",
     "output_type": "stream",
     "text": [
      "0\n",
      "1\n",
      "2\n",
      "3\n",
      "4\n",
      "5\n",
      "6\n",
      "7\n",
      "8\n",
      "9\n"
     ]
    }
   ],
   "source": [
    "for (index,numara) in enumerate(list(range(5,15))):\n",
    "    print(index)"
   ]
  },
  {
   "cell_type": "markdown",
   "id": "848a4dc2",
   "metadata": {},
   "source": [
    "# random"
   ]
  },
  {
   "cell_type": "code",
   "execution_count": 16,
   "id": "7046733a",
   "metadata": {},
   "outputs": [],
   "source": [
    "from random import randint"
   ]
  },
  {
   "cell_type": "code",
   "execution_count": 19,
   "id": "b76725e7",
   "metadata": {},
   "outputs": [
    {
     "data": {
      "text/plain": [
       "6"
      ]
     },
     "execution_count": 19,
     "metadata": {},
     "output_type": "execute_result"
    }
   ],
   "source": [
    "randint(0,15)"
   ]
  },
  {
   "cell_type": "code",
   "execution_count": 20,
   "id": "768f29e3",
   "metadata": {},
   "outputs": [],
   "source": [
    "from random import shuffle"
   ]
  },
  {
   "cell_type": "code",
   "execution_count": 22,
   "id": "3446dc68",
   "metadata": {},
   "outputs": [
    {
     "data": {
      "text/plain": [
       "[0, 1, 2, 3, 4, 5, 6, 7, 8, 9, 10, 11, 12, 13, 14, 15, 16, 17, 18, 19]"
      ]
     },
     "execution_count": 22,
     "metadata": {},
     "output_type": "execute_result"
    }
   ],
   "source": [
    "listem = list(range(0,20))\n",
    "listem"
   ]
  },
  {
   "cell_type": "code",
   "execution_count": 26,
   "id": "9dc1fda1",
   "metadata": {},
   "outputs": [],
   "source": [
    "shuffle(listem)"
   ]
  },
  {
   "cell_type": "code",
   "execution_count": 24,
   "id": "e22fa512",
   "metadata": {},
   "outputs": [
    {
     "data": {
      "text/plain": [
       "[13, 7, 14, 2, 3, 5, 17, 1, 8, 0, 19, 16, 10, 6, 18, 4, 12, 9, 11, 15]"
      ]
     },
     "execution_count": 24,
     "metadata": {},
     "output_type": "execute_result"
    }
   ],
   "source": [
    "listem"
   ]
  },
  {
   "cell_type": "markdown",
   "id": "a25ebe09",
   "metadata": {},
   "source": [
    "# zip"
   ]
  },
  {
   "cell_type": "code",
   "execution_count": 32,
   "id": "efa3b421",
   "metadata": {},
   "outputs": [],
   "source": [
    "yemekListesi = [\"muz\",\"ananas\",\"elma\"]\n",
    "kaloriListesi = [100,200,300]\n",
    "günListesi = [\"pazartesi\",\"salı\",\"çarşamba\",\"perşembe\"]"
   ]
  },
  {
   "cell_type": "code",
   "execution_count": 33,
   "id": "c3523a7c",
   "metadata": {},
   "outputs": [
    {
     "data": {
      "text/plain": [
       "[('muz', 100, 'pazartesi'), ('ananas', 200, 'salı'), ('elma', 300, 'çarşamba')]"
      ]
     },
     "execution_count": 33,
     "metadata": {},
     "output_type": "execute_result"
    }
   ],
   "source": [
    "list(zip(yemekListesi,kaloriListesi,günListesi))"
   ]
  },
  {
   "cell_type": "markdown",
   "id": "9be38109",
   "metadata": {},
   "source": [
    "zip bu şekilde aynı boyutta olan listeleri düzgün bir şekilde birleştirebilir."
   ]
  },
  {
   "cell_type": "markdown",
   "id": "baef23a3",
   "metadata": {},
   "source": [
    "# liste ileri seviye"
   ]
  },
  {
   "cell_type": "code",
   "execution_count": 34,
   "id": "6a748477",
   "metadata": {},
   "outputs": [
    {
     "name": "stdout",
     "output_type": "stream",
     "text": [
      "['T', 'a', 'h', 'i', 'r', 'i', ' ', 'F', 'i', 'd', 'a', 'n']\n"
     ]
    }
   ],
   "source": [
    "name = \"Tahiri Fidan\"\n",
    "emptyList = []\n",
    "emptyList = [temp for temp in name]\n",
    "print(emptyList)"
   ]
  },
  {
   "cell_type": "code",
   "execution_count": 35,
   "id": "f4cc2b26",
   "metadata": {},
   "outputs": [
    {
     "data": {
      "text/plain": [
       "str"
      ]
     },
     "execution_count": 35,
     "metadata": {},
     "output_type": "execute_result"
    }
   ],
   "source": [
    "type(name)"
   ]
  },
  {
   "cell_type": "markdown",
   "id": "23e3dd6d",
   "metadata": {},
   "source": [
    "# map"
   ]
  },
  {
   "cell_type": "code",
   "execution_count": 36,
   "id": "20a57808",
   "metadata": {},
   "outputs": [],
   "source": [
    "def BolmeIslemi(numara):\n",
    "    return numara/2"
   ]
  },
  {
   "cell_type": "code",
   "execution_count": 37,
   "id": "6f2662cd",
   "metadata": {},
   "outputs": [],
   "source": [
    "listemYeni = [1,2,3,4,5,6,7,8,9,10]"
   ]
  },
  {
   "cell_type": "code",
   "execution_count": 39,
   "id": "f4c591fe",
   "metadata": {},
   "outputs": [
    {
     "data": {
      "text/plain": [
       "[0.5, 1.0, 1.5, 2.0, 2.5, 3.0, 3.5, 4.0, 4.5, 5.0]"
      ]
     },
     "execution_count": 39,
     "metadata": {},
     "output_type": "execute_result"
    }
   ],
   "source": [
    "list(map(BolmeIslemi,listemYeni))"
   ]
  },
  {
   "cell_type": "markdown",
   "id": "7bed51d9",
   "metadata": {},
   "source": [
    "map fonksiyonu ile çok kolay bir şekilde fonksiyonu bir for döngüsü kullanarak dönme işlemi yerine bu şekilde sırayla çalıştırabiliyoruz"
   ]
  },
  {
   "cell_type": "markdown",
   "id": "babc041f",
   "metadata": {},
   "source": [
    "# filter"
   ]
  },
  {
   "cell_type": "code",
   "execution_count": 43,
   "id": "ceb02c65",
   "metadata": {},
   "outputs": [],
   "source": [
    "def kontrol(string):\n",
    "    return \"a\" in string"
   ]
  },
  {
   "cell_type": "code",
   "execution_count": 44,
   "id": "8786dd35",
   "metadata": {},
   "outputs": [],
   "source": [
    "isimListesi = [\"Tahiri\",\"Betül\",\"Rana\",\"Emine\",\"Elif\",\"Sare\"]"
   ]
  },
  {
   "cell_type": "code",
   "execution_count": 46,
   "id": "391510c4",
   "metadata": {},
   "outputs": [
    {
     "data": {
      "text/plain": [
       "[True, False, True, False, False, True]"
      ]
     },
     "execution_count": 46,
     "metadata": {},
     "output_type": "execute_result"
    }
   ],
   "source": [
    "list(map(kontrol,isimListesi))"
   ]
  },
  {
   "cell_type": "code",
   "execution_count": 48,
   "id": "03fbd232",
   "metadata": {},
   "outputs": [
    {
     "data": {
      "text/plain": [
       "['Tahiri', 'Rana', 'Sare']"
      ]
     },
     "execution_count": 48,
     "metadata": {},
     "output_type": "execute_result"
    }
   ],
   "source": [
    "list(filter(kontrol,isimListesi))"
   ]
  },
  {
   "cell_type": "markdown",
   "id": "ffa455c1",
   "metadata": {},
   "source": [
    "# lambda"
   ]
  },
  {
   "cell_type": "markdown",
   "id": "ae45e613",
   "metadata": {},
   "source": [
    "fonksiyonları tek satırda yazmamızı sağlar"
   ]
  },
  {
   "cell_type": "code",
   "execution_count": 49,
   "id": "99d19294",
   "metadata": {},
   "outputs": [],
   "source": [
    "carpma = lambda numara : numara * 3"
   ]
  },
  {
   "cell_type": "code",
   "execution_count": 50,
   "id": "28bf16d1",
   "metadata": {},
   "outputs": [
    {
     "data": {
      "text/plain": [
       "240"
      ]
     },
     "execution_count": 50,
     "metadata": {},
     "output_type": "execute_result"
    }
   ],
   "source": [
    "carpma(80)"
   ]
  },
  {
   "cell_type": "code",
   "execution_count": null,
   "id": "bb4070d8",
   "metadata": {},
   "outputs": [],
   "source": []
  }
 ],
 "metadata": {
  "kernelspec": {
   "display_name": "Python 3 (ipykernel)",
   "language": "python",
   "name": "python3"
  },
  "language_info": {
   "codemirror_mode": {
    "name": "ipython",
    "version": 3
   },
   "file_extension": ".py",
   "mimetype": "text/x-python",
   "name": "python",
   "nbconvert_exporter": "python",
   "pygments_lexer": "ipython3",
   "version": "3.9.13"
  }
 },
 "nbformat": 4,
 "nbformat_minor": 5
}

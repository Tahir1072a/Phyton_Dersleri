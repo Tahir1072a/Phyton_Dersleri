{
 "cells": [
  {
   "cell_type": "code",
   "id": "cdf3d22d",
   "metadata": {
    "ExecuteTime": {
     "end_time": "2024-10-24T13:32:31.201624Z",
     "start_time": "2024-10-24T13:32:31.074003Z"
    }
   },
   "source": [
    "import numpy as np\n",
    "from sipbuild.generator.parser.annotations import string"
   ],
   "outputs": [],
   "execution_count": 2
  },
  {
   "metadata": {},
   "cell_type": "markdown",
   "source": "Numpy kütüphanesi bize python dilinde çalışan ve gayet hızlı bir işlem gücü sağlayan matematiksel kütüphanedir. Burada numpy kütüphanesinin özelliklerine değineceğiz.",
   "id": "e9cdad897ff496c"
  },
  {
   "cell_type": "markdown",
   "id": "d6299f7d",
   "metadata": {},
   "source": [
    "# Numpy Arrays\n",
    "Numpy arraylar *tek tip veri* alır. Numpy arraylerin üzerinde tanımlı bir sürü işlem yapılabilir. Bu arraylar üzerinde matematiksel operatörler tanımlıdır. Ayrıca numpy arraylerin built-in bir çok property'si de vardır. Mesela shape propertysi vardır. Bu ilgili dizinin yapısı hakkında bize bilgi verir. .shape[0] bize dizinin boyutunu verir."
   ]
  },
  {
   "cell_type": "code",
   "id": "9d0128f7",
   "metadata": {
    "ExecuteTime": {
     "end_time": "2024-10-24T14:19:59.259636Z",
     "start_time": "2024-10-24T14:19:59.255150Z"
    }
   },
   "source": [
    "xx = np.array([12, \"Tahiri\"]) # Sıkıntılı\n",
    "arr_test = np.array([0,1,2,3,4,5,6,7,8,9,10,11,12])\n",
    "print(xx) # Görüldüğü üzere numpy arrayler tek tip olabilir. Yukarıda xx'i karışık vermiş olsak bile arka planda bunlar tek bir veri tipine dönüştürüldü!!!.\n",
    "\n",
    "x_train = np.array([1.0, 2.0]) #numpy arraye dönüşüm\n",
    "y_train = np.array([300.0, 500.0]) \n",
    "print(f\"x_train shape: {x_train.shape}\")\n",
    "m = x_train.shape[0]\n",
    "print(f\"x_train length is: {m}\")\n",
    "\n",
    "k = 0\n",
    "print(f\"1. training example of x feature: {x_train[0]}\")\n",
    "print(f\"1. training example of y output: {y_train[0]}\")"
   ],
   "outputs": [
    {
     "name": "stdout",
     "output_type": "stream",
     "text": [
      "['12' 'Tahiri']\n",
      "x_train shape: (2,)\n",
      "x_train length is: 2\n",
      "1. training example of x feature: 1.0\n",
      "1. training example of y output: 300.0\n"
     ]
    }
   ],
   "execution_count": 52
  },
  {
   "metadata": {},
   "cell_type": "markdown",
   "source": "### Numpy array üzerinde random ve zeros",
   "id": "503723fda1d874ed"
  },
  {
   "metadata": {
    "ExecuteTime": {
     "end_time": "2024-10-24T13:54:17.946232Z",
     "start_time": "2024-10-24T13:54:17.941314Z"
    }
   },
   "cell_type": "code",
   "source": [
    "print(f\"Numpy arrayin şekli: {arr_test.shape}\")\n",
    "print(f\"Sadece sıfırlardan olşan bir nump dizisi: {np.zeros(10)}\") #parametre olrak aldığı değer boyutunu belirtir.\n",
    "print(f\"Random sayılardan oluşan numpy dizisi: {np.random.random_sample(5)}\") # [0,1) arasında rastgele sayı üretir.\n",
    "\n",
    "# np.arange([başlangıç], bitiş, [adım], [dtype])\n",
    "print(f\"Belli bir değere kadar tam sayı üreten fonksiyon: {np.arange(0,10,3,float)}\")\n",
    "\n",
    "# Aritematik işlemler\n",
    "print(f\"Numpy array: {arr_test}\")\n",
    "print(f\"Numpy array negatives: {-1 * arr_test}\")\n",
    "print(f\"Numpy array sum: {np.sum(arr_test)}\")\n",
    "print(f\"Numpy array değerleri ortalaması: {np.mean(arr_test)}\")\n",
    "print(f\"Numpy array üs alma işlemi: {arr_test ** 3}\")\n"
   ],
   "id": "fc02dbaea7c3cbaf",
   "outputs": [
    {
     "name": "stdout",
     "output_type": "stream",
     "text": [
      "Numpy arrayin şekli: (13,)\n",
      "Sadece sıfırlardan olşan bir nump dizisi: [0. 0. 0. 0. 0. 0. 0. 0. 0. 0.]\n",
      "Random sayılardan oluşan numpy dizisi: [0.65902423 0.01042624 0.82425113 0.40729091 0.3847128 ]\n",
      "Belli bir değere kadar tam sayı üreten fonksiyon: [0. 3. 6. 9.]\n",
      "Numpy array: [ 0  1  2  3  4  5  6  7  8  9 10 11 12]\n",
      "Numpy array negatives: [  0  -1  -2  -3  -4  -5  -6  -7  -8  -9 -10 -11 -12]\n",
      "Numpy array sum: 78\n",
      "Numpy array değerleri ortalaması: 6.0\n",
      "Numpy array üs alma işlemi: [   0    1    8   27   64  125  216  343  512  729 1000 1331 1728]\n"
     ]
    }
   ],
   "execution_count": 47
  },
  {
   "metadata": {},
   "cell_type": "markdown",
   "source": "Şimdi lineer cebir konusu olan matrix çarpımına gelelim. Aslında 2 tane vektörün çarpımıdır. Tek boyutlu vektorler için gayet basit bir işlem yapılır.",
   "id": "b7627909c4d10015"
  },
  {
   "metadata": {},
   "cell_type": "markdown",
   "source": [
    "### Vectorler\n",
    "Aslında bir boytulu bir dizi 1-D vectordür. Numpy arrayleri sayesinde vectorler üzerinde rahatça işlem yapabiliriz. 1-D vectorlerin birleşmesi ile de matrixler oluşur. Yani 2-D bir vector aslında bir matrixtir. Genelde sadece bir boyurlu yapılar için vector kavramı kullanılır."
   ],
   "id": "119b1959ab34021f"
  },
  {
   "metadata": {
    "ExecuteTime": {
     "end_time": "2024-10-24T14:09:00.417467Z",
     "start_time": "2024-10-24T14:09:00.413936Z"
    }
   },
   "cell_type": "code",
   "source": [
    "vector_1 = np.random.rand(4) * 3 + 1\n",
    "vector_2 = np.random.rand(4) * 3 + 1\n",
    "\n",
    "print(vector_1)\n",
    "print(vector_2)\n",
    "\n",
    "print(f\"2 vectorün çarpım sonucu: {np.dot(vector_1, vector_2)}\")"
   ],
   "id": "54a2a97883bb6a27",
   "outputs": [
    {
     "name": "stdout",
     "output_type": "stream",
     "text": [
      "[1.98107054 3.17727784 2.30965962 1.55723682]\n",
      "[1.92479446 2.39344614 2.97524301 1.99281725]\n",
      "2 vectorün çarpım sonucu: 21.392884002395846\n"
     ]
    }
   ],
   "execution_count": 51
  },
  {
   "metadata": {},
   "cell_type": "markdown",
   "source": "### Matris İşlemleri",
   "id": "640f4ec6eecc81b5"
  },
  {
   "cell_type": "code",
   "id": "470c1f27",
   "metadata": {
    "ExecuteTime": {
     "end_time": "2024-10-24T14:26:02.156486Z",
     "start_time": "2024-10-24T14:26:02.151661Z"
    }
   },
   "source": [
    "matrix_1 = [[1,2,3],[10,20,30],[100,200,300]]\n",
    "matrix_2 = np.zeros((2,5))\n",
    "\n",
    "print(matrix_1)\n",
    "print(f\"Matrix_2: {matrix_2}\")\n",
    "matrix_2 = np.random.randn(2,5)\n",
    "print(f\"Matrix_2 with random numbers: {matrix_2}\")"
   ],
   "outputs": [
    {
     "name": "stdout",
     "output_type": "stream",
     "text": [
      "[[1, 2, 3], [10, 20, 30], [100, 200, 300]]\n",
      "Matrix_2: [[0. 0. 0. 0. 0.]\n",
      " [0. 0. 0. 0. 0.]]\n",
      "Matrix_2 with random numbers: [[-0.73614011  1.65532605  1.5004773  -0.03872763  0.52595034]\n",
      " [ 1.41960669 -0.22337238  1.7370417  -1.92821079 -0.05197788]]\n"
     ]
    }
   ],
   "execution_count": 61
  },
  {
   "metadata": {},
   "cell_type": "markdown",
   "source": [
    "### Indexing and Slicing\n",
    "Aşağıda bazı indeksleme ve slicing işlemleri gösterilecektir."
   ],
   "id": "5ddf38804f941ab9"
  },
  {
   "cell_type": "code",
   "id": "393a6155",
   "metadata": {
    "ExecuteTime": {
     "end_time": "2024-10-24T14:59:37.787328Z",
     "start_time": "2024-10-24T14:59:37.783767Z"
    }
   },
   "source": [
    "matrix_2 = matrix_2.reshape(5,2) #Bi aşt satırdaki kod ile aynı anlamı ifade eder.\n",
    "matrix_2 = matrix_2.reshape(2, -1) #reshape fonksiyonu matrix oluşturmanın rahat bir yoludur.\n",
    "print(matrix_2)\n",
    "\n",
    "print(f\"2.satır 1.sutün: {matrix_2[1,0]}\")\n",
    "print(f\"Matrixin 4.satırı: {matrix_2[1]}\")\n",
    "\n",
    "#Slicing\n",
    "\n",
    "print(f\"matrix_2 1.satırı üzerinde slice işlemi: {matrix_2[0, 1:4:1]}\")"
   ],
   "outputs": [
    {
     "name": "stdout",
     "output_type": "stream",
     "text": [
      "[[-0.73614011  1.65532605  1.5004773  -0.03872763  0.52595034]\n",
      " [ 1.41960669 -0.22337238  1.7370417  -1.92821079 -0.05197788]]\n",
      "2.satır 1.sutün: 1.4196066859564866\n",
      "Matrixin 4.satırı: [ 1.41960669 -0.22337238  1.7370417  -1.92821079 -0.05197788]\n",
      "matrix_2 1.satırı üzerinde slice işlemi: [ 1.65532605  1.5004773  -0.03872763]\n"
     ]
    }
   ],
   "execution_count": 78
  },
  {
   "cell_type": "code",
   "execution_count": 10,
   "id": "667b8784",
   "metadata": {},
   "outputs": [
    {
     "data": {
      "text/plain": [
       "array([[  1,   2,   3],\n",
       "       [ 10,  20,  30],\n",
       "       [100, 200, 300]])"
      ]
     },
     "execution_count": 10,
     "metadata": {},
     "output_type": "execute_result"
    }
   ],
   "source": [
    "np.array(matrixListesi)"
   ]
  },
  {
   "cell_type": "markdown",
   "id": "ab40aa51",
   "metadata": {},
   "source": [
    "=> bu şekilde bir görünüm elde etmesi işimize gelir."
   ]
  },
  {
   "cell_type": "markdown",
   "id": "37a8fc08",
   "metadata": {},
   "source": [
    "# arange"
   ]
  },
  {
   "cell_type": "code",
   "execution_count": 11,
   "id": "95bf95ed",
   "metadata": {},
   "outputs": [
    {
     "data": {
      "text/plain": [
       "[0, 1, 2, 3, 4, 5, 6, 7, 8, 9]"
      ]
     },
     "execution_count": 11,
     "metadata": {},
     "output_type": "execute_result"
    }
   ],
   "source": [
    "list(range(0,10))"
   ]
  },
  {
   "cell_type": "code",
   "execution_count": 12,
   "id": "3d8e02e6",
   "metadata": {},
   "outputs": [
    {
     "data": {
      "text/plain": [
       "array([0, 1, 2, 3, 4, 5, 6, 7, 8, 9])"
      ]
     },
     "execution_count": 12,
     "metadata": {},
     "output_type": "execute_result"
    }
   ],
   "source": [
    "np.arange(0,10)"
   ]
  },
  {
   "cell_type": "markdown",
   "id": "c615a2cf",
   "metadata": {},
   "source": [
    "=> numpy kütüphanesinde bulunan arange metodunu kullanarak da bir dizi oluşturabiliriz"
   ]
  },
  {
   "cell_type": "code",
   "execution_count": 13,
   "id": "215fb5cc",
   "metadata": {},
   "outputs": [
    {
     "data": {
      "text/plain": [
       "array([0, 2, 4, 6, 8])"
      ]
     },
     "execution_count": 13,
     "metadata": {},
     "output_type": "execute_result"
    }
   ],
   "source": [
    "np.arange(0,10,2)"
   ]
  },
  {
   "cell_type": "markdown",
   "id": "f0db5b82",
   "metadata": {},
   "source": [
    "# zeros-ones"
   ]
  },
  {
   "cell_type": "code",
   "execution_count": 14,
   "id": "ef044d2b",
   "metadata": {},
   "outputs": [
    {
     "data": {
      "text/plain": [
       "array([0., 0., 0., 0., 0., 0., 0., 0., 0.])"
      ]
     },
     "execution_count": 14,
     "metadata": {},
     "output_type": "execute_result"
    }
   ],
   "source": [
    "np.zeros(9)"
   ]
  },
  {
   "cell_type": "markdown",
   "id": "a5e7afd8",
   "metadata": {},
   "source": [
    "bize belirtilen sayı kadar 0 döner"
   ]
  },
  {
   "cell_type": "code",
   "execution_count": 16,
   "id": "3a0a6183",
   "metadata": {},
   "outputs": [
    {
     "data": {
      "text/plain": [
       "array([[0., 0., 0.],\n",
       "       [0., 0., 0.],\n",
       "       [0., 0., 0.],\n",
       "       [0., 0., 0.],\n",
       "       [0., 0., 0.],\n",
       "       [0., 0., 0.],\n",
       "       [0., 0., 0.],\n",
       "       [0., 0., 0.],\n",
       "       [0., 0., 0.],\n",
       "       [0., 0., 0.]])"
      ]
     },
     "execution_count": 16,
     "metadata": {},
     "output_type": "execute_result"
    }
   ],
   "source": [
    "np.zeros((10,3))"
   ]
  },
  {
   "cell_type": "markdown",
   "id": "76d40061",
   "metadata": {},
   "source": [
    "=> matrix şeklinde de tanımlanabilir."
   ]
  },
  {
   "cell_type": "code",
   "execution_count": 17,
   "id": "96b1ce0f",
   "metadata": {},
   "outputs": [
    {
     "data": {
      "text/plain": [
       "array([1., 1., 1.])"
      ]
     },
     "execution_count": 17,
     "metadata": {},
     "output_type": "execute_result"
    }
   ],
   "source": [
    "np.ones(3)"
   ]
  },
  {
   "cell_type": "markdown",
   "id": "a44205e8",
   "metadata": {},
   "source": [
    "=> bu metodda basit bir şekilde 1 oluşturur."
   ]
  },
  {
   "cell_type": "markdown",
   "id": "d6e8720e",
   "metadata": {},
   "source": [
    "# linspace"
   ]
  },
  {
   "cell_type": "code",
   "execution_count": 22,
   "id": "a3acc10a",
   "metadata": {},
   "outputs": [
    {
     "data": {
      "text/plain": [
       "array([ 0. ,  6.5, 13. ])"
      ]
     },
     "execution_count": 22,
     "metadata": {},
     "output_type": "execute_result"
    }
   ],
   "source": [
    "np.linspace(0,13,3)"
   ]
  },
  {
   "cell_type": "code",
   "execution_count": 26,
   "id": "2391ff41",
   "metadata": {},
   "outputs": [
    {
     "data": {
      "text/plain": [
       "array([ 0.,  4.,  8., 12., 16., 20.])"
      ]
     },
     "execution_count": 26,
     "metadata": {},
     "output_type": "execute_result"
    }
   ],
   "source": [
    "np.linspace(0,20,6)"
   ]
  },
  {
   "cell_type": "markdown",
   "id": "37b3af2c",
   "metadata": {},
   "source": [
    "=> bu metot bize ilgili sayılar arasında, belirtilen sayı kadar sayı seçer. Ancak bu seçme işlemini yaparken seçilen sayıların arasındaki farkın eşit olmasını sağlar."
   ]
  },
  {
   "cell_type": "markdown",
   "id": "f3000a86",
   "metadata": {},
   "source": [
    "# eye"
   ]
  },
  {
   "cell_type": "code",
   "execution_count": 29,
   "id": "20516afa",
   "metadata": {},
   "outputs": [
    {
     "data": {
      "text/plain": [
       "array([[1., 0., 0., 0., 0., 0., 0., 0., 0., 0.],\n",
       "       [0., 1., 0., 0., 0., 0., 0., 0., 0., 0.],\n",
       "       [0., 0., 1., 0., 0., 0., 0., 0., 0., 0.],\n",
       "       [0., 0., 0., 1., 0., 0., 0., 0., 0., 0.],\n",
       "       [0., 0., 0., 0., 1., 0., 0., 0., 0., 0.],\n",
       "       [0., 0., 0., 0., 0., 1., 0., 0., 0., 0.],\n",
       "       [0., 0., 0., 0., 0., 0., 1., 0., 0., 0.],\n",
       "       [0., 0., 0., 0., 0., 0., 0., 1., 0., 0.],\n",
       "       [0., 0., 0., 0., 0., 0., 0., 0., 1., 0.],\n",
       "       [0., 0., 0., 0., 0., 0., 0., 0., 0., 1.]])"
      ]
     },
     "execution_count": 29,
     "metadata": {},
     "output_type": "execute_result"
    }
   ],
   "source": [
    "np.eye(10)"
   ]
  },
  {
   "cell_type": "markdown",
   "id": "402e0e90",
   "metadata": {},
   "source": [
    "=> çaprazı 1 ile dolu olan bir matriks hazrılar."
   ]
  },
  {
   "cell_type": "markdown",
   "id": "800c9769",
   "metadata": {},
   "source": [
    "# random"
   ]
  },
  {
   "cell_type": "code",
   "execution_count": 32,
   "id": "d03bfcb4",
   "metadata": {},
   "outputs": [
    {
     "data": {
      "text/plain": [
       "array([ 1.65448134,  0.60104974,  1.00441216,  0.20188044,  0.28229187,\n",
       "        0.24031622,  0.37234169,  1.70054648, -2.27260234])"
      ]
     },
     "execution_count": 32,
     "metadata": {},
     "output_type": "execute_result"
    }
   ],
   "source": [
    "np.random.randn(9)"
   ]
  },
  {
   "cell_type": "markdown",
   "id": "12fe7baa",
   "metadata": {},
   "source": [
    "=> belirtilen sayı kadar rastgele değer üretir."
   ]
  },
  {
   "cell_type": "code",
   "execution_count": 33,
   "id": "f3e7f8fc",
   "metadata": {},
   "outputs": [
    {
     "data": {
      "text/plain": [
       "array([[-1.61460863, -0.3403926 , -0.80755765,  0.90907169],\n",
       "       [-0.8041096 ,  0.65004378, -0.64735653, -0.29746658],\n",
       "       [-0.819737  , -0.00777323, -0.3802361 , -0.38002017]])"
      ]
     },
     "execution_count": 33,
     "metadata": {},
     "output_type": "execute_result"
    }
   ],
   "source": [
    "np.random.randn(3,4)"
   ]
  },
  {
   "cell_type": "code",
   "execution_count": 42,
   "id": "5409fc14",
   "metadata": {},
   "outputs": [
    {
     "data": {
      "text/plain": [
       "array([15,  6, 12, 12,  3, 11, 10,  8, 10,  5])"
      ]
     },
     "execution_count": 42,
     "metadata": {},
     "output_type": "execute_result"
    }
   ],
   "source": [
    "np.random.randint(0,20,10)"
   ]
  },
  {
   "cell_type": "markdown",
   "id": "393c65aa",
   "metadata": {},
   "source": [
    "=> buda sadece int değerleri döndürür. Sonda verilen sayı ne kadar rastgele sayı istediğimizi belirtir."
   ]
  },
  {
   "cell_type": "code",
   "execution_count": 49,
   "id": "890656e4",
   "metadata": {},
   "outputs": [],
   "source": [
    "listem = np.random.randint(1,300,30)"
   ]
  },
  {
   "cell_type": "code",
   "execution_count": 50,
   "id": "a058f2b6",
   "metadata": {},
   "outputs": [
    {
     "data": {
      "text/plain": [
       "array([140,  84, 151,   8, 194, 218, 235, 167, 149,  77,  46, 145,  85,\n",
       "       160,  32,  50, 224, 277, 251,  19,  29, 286, 159,  29, 127, 107,\n",
       "       215,  90, 130, 272])"
      ]
     },
     "execution_count": 50,
     "metadata": {},
     "output_type": "execute_result"
    }
   ],
   "source": [
    "listem"
   ]
  },
  {
   "cell_type": "markdown",
   "id": "89e1b51f",
   "metadata": {},
   "source": [
    "# numpy array methods"
   ]
  },
  {
   "cell_type": "code",
   "execution_count": 51,
   "id": "b4f022aa",
   "metadata": {},
   "outputs": [
    {
     "data": {
      "text/plain": [
       "array([[140,  84, 151,   8, 194],\n",
       "       [218, 235, 167, 149,  77],\n",
       "       [ 46, 145,  85, 160,  32],\n",
       "       [ 50, 224, 277, 251,  19],\n",
       "       [ 29, 286, 159,  29, 127],\n",
       "       [107, 215,  90, 130, 272]])"
      ]
     },
     "execution_count": 51,
     "metadata": {},
     "output_type": "execute_result"
    }
   ],
   "source": [
    "listem.reshape(6,5)"
   ]
  },
  {
   "cell_type": "markdown",
   "id": "678feacd",
   "metadata": {},
   "source": [
    "=> reshape metodu ile diziyi yeniden şekillendirebiliyoruz ama şekillendirmek istediğimiz dizinin boyutu, metot parametreleri uyumlu olmalıdır. Yani 30 boyutlu bir dizi varsa elimizde onu matrix haline getirirken boyutunu dikkate almamız gerekir."
   ]
  },
  {
   "cell_type": "code",
   "execution_count": 53,
   "id": "75cb21d1",
   "metadata": {},
   "outputs": [
    {
     "data": {
      "text/plain": [
       "286"
      ]
     },
     "execution_count": 53,
     "metadata": {},
     "output_type": "execute_result"
    }
   ],
   "source": [
    "listem.max()"
   ]
  },
  {
   "cell_type": "markdown",
   "id": "f9556cfc",
   "metadata": {},
   "source": [
    "=> bu şekilde, rastgele oluşturulmuş bir diziinin max ve min deeğrlerine rahatlıkla ulaşabilir."
   ]
  },
  {
   "cell_type": "code",
   "execution_count": 54,
   "id": "bfdacf67",
   "metadata": {},
   "outputs": [
    {
     "data": {
      "text/plain": [
       "numpy.ndarray"
      ]
     },
     "execution_count": 54,
     "metadata": {},
     "output_type": "execute_result"
    }
   ],
   "source": [
    "type(listem)"
   ]
  },
  {
   "cell_type": "code",
   "execution_count": 55,
   "id": "f7126210",
   "metadata": {},
   "outputs": [
    {
     "data": {
      "text/plain": [
       "8"
      ]
     },
     "execution_count": 55,
     "metadata": {},
     "output_type": "execute_result"
    }
   ],
   "source": [
    "listem.min()"
   ]
  },
  {
   "cell_type": "code",
   "execution_count": 56,
   "id": "56832e5b",
   "metadata": {},
   "outputs": [
    {
     "data": {
      "text/plain": [
       "21"
      ]
     },
     "execution_count": 56,
     "metadata": {},
     "output_type": "execute_result"
    }
   ],
   "source": [
    "listem.argmax()"
   ]
  },
  {
   "cell_type": "markdown",
   "id": "550f703e",
   "metadata": {},
   "source": [
    "=> max değerinin dizinin hangi indexinde bulunduğunu gösterir."
   ]
  },
  {
   "cell_type": "code",
   "execution_count": 63,
   "id": "2facf9a7",
   "metadata": {},
   "outputs": [],
   "source": [
    "reshapeListem = listem.reshape(3,10)"
   ]
  },
  {
   "cell_type": "code",
   "execution_count": 66,
   "id": "26073f64",
   "metadata": {},
   "outputs": [
    {
     "data": {
      "text/plain": [
       "(3, 10)"
      ]
     },
     "execution_count": 66,
     "metadata": {},
     "output_type": "execute_result"
    }
   ],
   "source": [
    "reshapeListem.shape"
   ]
  },
  {
   "cell_type": "markdown",
   "id": "439162d1",
   "metadata": {},
   "source": [
    "=> dizinin hangi şekle sahip olduğunu gösterir."
   ]
  },
  {
   "cell_type": "markdown",
   "id": "93b6c864",
   "metadata": {},
   "source": [
    "# indexleme-operayonlar"
   ]
  },
  {
   "cell_type": "code",
   "execution_count": 67,
   "id": "4a130667",
   "metadata": {},
   "outputs": [],
   "source": [
    "dizim = np.arange(0,15)"
   ]
  },
  {
   "cell_type": "code",
   "execution_count": 68,
   "id": "6e782f40",
   "metadata": {},
   "outputs": [
    {
     "data": {
      "text/plain": [
       "array([ 0,  1,  2,  3,  4,  5,  6,  7,  8,  9, 10, 11, 12, 13, 14])"
      ]
     },
     "execution_count": 68,
     "metadata": {},
     "output_type": "execute_result"
    }
   ],
   "source": [
    "dizim"
   ]
  },
  {
   "cell_type": "code",
   "execution_count": 70,
   "id": "b5d66899",
   "metadata": {},
   "outputs": [
    {
     "data": {
      "text/plain": [
       "5"
      ]
     },
     "execution_count": 70,
     "metadata": {},
     "output_type": "execute_result"
    }
   ],
   "source": [
    "dizim[5]"
   ]
  },
  {
   "cell_type": "code",
   "execution_count": 74,
   "id": "c8c686b8",
   "metadata": {},
   "outputs": [
    {
     "data": {
      "text/plain": [
       "array([3, 4, 5, 6, 7])"
      ]
     },
     "execution_count": 74,
     "metadata": {},
     "output_type": "execute_result"
    }
   ],
   "source": [
    "dizim[3:8]"
   ]
  },
  {
   "cell_type": "code",
   "execution_count": 75,
   "id": "0488f374",
   "metadata": {},
   "outputs": [],
   "source": [
    "dizim[3:8] = 2"
   ]
  },
  {
   "cell_type": "code",
   "execution_count": 76,
   "id": "fd59ca19",
   "metadata": {},
   "outputs": [
    {
     "data": {
      "text/plain": [
       "array([ 0,  1,  2,  2,  2,  2,  2,  2,  8,  9, 10, 11, 12, 13, 14])"
      ]
     },
     "execution_count": 76,
     "metadata": {},
     "output_type": "execute_result"
    }
   ],
   "source": [
    "dizim"
   ]
  },
  {
   "cell_type": "code",
   "execution_count": 88,
   "id": "971937a9",
   "metadata": {},
   "outputs": [],
   "source": [
    "dizim = np.arange(0,20)"
   ]
  },
  {
   "cell_type": "code",
   "execution_count": 89,
   "id": "f74621b7",
   "metadata": {},
   "outputs": [
    {
     "data": {
      "text/plain": [
       "array([ 0,  1,  2,  3,  4,  5,  6,  7,  8,  9, 10, 11, 12, 13, 14, 15, 16,\n",
       "       17, 18, 19])"
      ]
     },
     "execution_count": 89,
     "metadata": {},
     "output_type": "execute_result"
    }
   ],
   "source": [
    "dizim"
   ]
  },
  {
   "cell_type": "code",
   "execution_count": 90,
   "id": "099fb272",
   "metadata": {},
   "outputs": [],
   "source": [
    "dizi = dizim[4:9]"
   ]
  },
  {
   "cell_type": "markdown",
   "id": "e34509fd",
   "metadata": {},
   "source": [
    "=> burada referans ataması yapıyor. Bunu unutmamak lazım. Yani şuan dizi üzerinde değişiklik yaparsam dizim üzerinde de değişiklik yapmış olacağım."
   ]
  },
  {
   "cell_type": "code",
   "execution_count": 91,
   "id": "3083486f",
   "metadata": {},
   "outputs": [
    {
     "data": {
      "text/plain": [
       "array([4, 5, 6, 7, 8])"
      ]
     },
     "execution_count": 91,
     "metadata": {},
     "output_type": "execute_result"
    }
   ],
   "source": [
    "dizi"
   ]
  },
  {
   "cell_type": "code",
   "execution_count": 93,
   "id": "cc3a7d42",
   "metadata": {},
   "outputs": [],
   "source": [
    "dizi[:] = 700"
   ]
  },
  {
   "cell_type": "code",
   "execution_count": 94,
   "id": "d8a0c953",
   "metadata": {},
   "outputs": [
    {
     "data": {
      "text/plain": [
       "array([700, 700, 700, 700, 700])"
      ]
     },
     "execution_count": 94,
     "metadata": {},
     "output_type": "execute_result"
    }
   ],
   "source": [
    "dizi"
   ]
  },
  {
   "cell_type": "code",
   "execution_count": 95,
   "id": "3a3afece",
   "metadata": {},
   "outputs": [
    {
     "data": {
      "text/plain": [
       "array([  0,   1,   2,   3, 700, 700, 700, 700, 700,   9,  10,  11,  12,\n",
       "        13,  14,  15,  16,  17,  18,  19])"
      ]
     },
     "execution_count": 95,
     "metadata": {},
     "output_type": "execute_result"
    }
   ],
   "source": [
    "dizim"
   ]
  },
  {
   "cell_type": "markdown",
   "id": "cef80fb7",
   "metadata": {},
   "source": [
    "=> numpy dizilerinde atama işlemlerince c# da ki gibi davranıyor."
   ]
  },
  {
   "cell_type": "code",
   "execution_count": 96,
   "id": "1798ae30",
   "metadata": {},
   "outputs": [],
   "source": [
    "yeniDizi = dizim.copy()"
   ]
  },
  {
   "cell_type": "code",
   "execution_count": 97,
   "id": "aeae55b6",
   "metadata": {},
   "outputs": [
    {
     "data": {
      "text/plain": [
       "array([  0,   1,   2,   3, 700, 700, 700, 700, 700,   9,  10,  11,  12,\n",
       "        13,  14,  15,  16,  17,  18,  19])"
      ]
     },
     "execution_count": 97,
     "metadata": {},
     "output_type": "execute_result"
    }
   ],
   "source": [
    "yeniDizi"
   ]
  },
  {
   "cell_type": "code",
   "execution_count": 98,
   "id": "2e029c0b",
   "metadata": {},
   "outputs": [
    {
     "data": {
      "text/plain": [
       "array([  0,   1,   2,   3, 700, 700, 700, 700, 700,   9,  10,  11,  12,\n",
       "        13,  14,  15,  16,  17,  18,  19])"
      ]
     },
     "execution_count": 98,
     "metadata": {},
     "output_type": "execute_result"
    }
   ],
   "source": [
    "dizim"
   ]
  },
  {
   "cell_type": "code",
   "execution_count": 99,
   "id": "8af0a1f4",
   "metadata": {},
   "outputs": [],
   "source": [
    "yeniDizi[:] = 0"
   ]
  },
  {
   "cell_type": "code",
   "execution_count": 100,
   "id": "53dd4cdf",
   "metadata": {},
   "outputs": [
    {
     "data": {
      "text/plain": [
       "array([0, 0, 0, 0, 0, 0, 0, 0, 0, 0, 0, 0, 0, 0, 0, 0, 0, 0, 0, 0])"
      ]
     },
     "execution_count": 100,
     "metadata": {},
     "output_type": "execute_result"
    }
   ],
   "source": [
    "yeniDizi"
   ]
  },
  {
   "cell_type": "code",
   "execution_count": 101,
   "id": "42b6325c",
   "metadata": {},
   "outputs": [
    {
     "data": {
      "text/plain": [
       "array([  0,   1,   2,   3, 700, 700, 700, 700, 700,   9,  10,  11,  12,\n",
       "        13,  14,  15,  16,  17,  18,  19])"
      ]
     },
     "execution_count": 101,
     "metadata": {},
     "output_type": "execute_result"
    }
   ],
   "source": [
    "dizim"
   ]
  },
  {
   "cell_type": "markdown",
   "id": "6a02e5aa",
   "metadata": {},
   "source": [
    "=> görüldüğü üzeri copy metodu kullanrak deep copy yapılabilir."
   ]
  },
  {
   "cell_type": "markdown",
   "id": "e0a205a3",
   "metadata": {},
   "source": [
    "# matrixler"
   ]
  },
  {
   "cell_type": "code",
   "execution_count": 107,
   "id": "552a3970",
   "metadata": {},
   "outputs": [],
   "source": [
    "ornekMatrix = np.array([[1,2,3],[10,20,30],[100,200,300],[1000,2000,3000],[50,60,80]])"
   ]
  },
  {
   "cell_type": "code",
   "execution_count": 108,
   "id": "4a04cf34",
   "metadata": {},
   "outputs": [
    {
     "data": {
      "text/plain": [
       "array([[   1,    2,    3],\n",
       "       [  10,   20,   30],\n",
       "       [ 100,  200,  300],\n",
       "       [1000, 2000, 3000],\n",
       "       [  50,   60,   80]])"
      ]
     },
     "execution_count": 108,
     "metadata": {},
     "output_type": "execute_result"
    }
   ],
   "source": [
    "ornekMatrix"
   ]
  },
  {
   "cell_type": "code",
   "execution_count": 109,
   "id": "f2b520a1",
   "metadata": {},
   "outputs": [
    {
     "data": {
      "text/plain": [
       "array([1, 2, 3])"
      ]
     },
     "execution_count": 109,
     "metadata": {},
     "output_type": "execute_result"
    }
   ],
   "source": [
    "ornekMatrix[0]"
   ]
  },
  {
   "cell_type": "code",
   "execution_count": 110,
   "id": "bac92e47",
   "metadata": {},
   "outputs": [
    {
     "data": {
      "text/plain": [
       "2"
      ]
     },
     "execution_count": 110,
     "metadata": {},
     "output_type": "execute_result"
    }
   ],
   "source": [
    "ornekMatrix[0,1]"
   ]
  },
  {
   "cell_type": "code",
   "execution_count": 112,
   "id": "ff1aa63a",
   "metadata": {},
   "outputs": [
    {
     "data": {
      "text/plain": [
       "2"
      ]
     },
     "execution_count": 112,
     "metadata": {},
     "output_type": "execute_result"
    }
   ],
   "source": [
    "ornekMatrix[0][1]"
   ]
  },
  {
   "cell_type": "markdown",
   "id": "02ac1d54",
   "metadata": {},
   "source": [
    "görüldüğü üzere iki türlü de iki boyutlu dizilere yani matrixlere erişim sağlayabiliyoruz"
   ]
  },
  {
   "cell_type": "code",
   "execution_count": 119,
   "id": "c249146e",
   "metadata": {},
   "outputs": [
    {
     "data": {
      "text/plain": [
       "array([ 30, 300])"
      ]
     },
     "execution_count": 119,
     "metadata": {},
     "output_type": "execute_result"
    }
   ],
   "source": [
    "ornekMatrix[1:3,2]"
   ]
  },
  {
   "cell_type": "code",
   "execution_count": 120,
   "id": "681b36e5",
   "metadata": {},
   "outputs": [
    {
     "data": {
      "text/plain": [
       "array([  30,  300, 3000,   80])"
      ]
     },
     "execution_count": 120,
     "metadata": {},
     "output_type": "execute_result"
    }
   ],
   "source": [
    "ornekMatrix[1:,2]"
   ]
  },
  {
   "cell_type": "code",
   "execution_count": 123,
   "id": "82a56a52",
   "metadata": {},
   "outputs": [
    {
     "data": {
      "text/plain": [
       "array([[  10,   20,   30],\n",
       "       [ 100,  200,  300],\n",
       "       [1000, 2000, 3000],\n",
       "       [  50,   60,   80]])"
      ]
     },
     "execution_count": 123,
     "metadata": {},
     "output_type": "execute_result"
    }
   ],
   "source": [
    "ornekMatrix[1:,0:]"
   ]
  },
  {
   "cell_type": "code",
   "execution_count": 125,
   "id": "9912dfe3",
   "metadata": {},
   "outputs": [
    {
     "data": {
      "text/plain": [
       "array([[  2,   3],\n",
       "       [200, 300],\n",
       "       [ 60,  80]])"
      ]
     },
     "execution_count": 125,
     "metadata": {},
     "output_type": "execute_result"
    }
   ],
   "source": [
    "ornekMatrix[[0,2,4],1:]"
   ]
  },
  {
   "cell_type": "code",
   "execution_count": 126,
   "id": "a17af5da",
   "metadata": {},
   "outputs": [
    {
     "data": {
      "text/plain": [
       "array([[  2,   3],\n",
       "       [200, 300],\n",
       "       [ 60,  80]])"
      ]
     },
     "execution_count": 126,
     "metadata": {},
     "output_type": "execute_result"
    }
   ],
   "source": [
    "ornekMatrix[::2,1:]"
   ]
  },
  {
   "cell_type": "markdown",
   "id": "bae09ad7",
   "metadata": {},
   "source": [
    "# operasyonlar"
   ]
  },
  {
   "cell_type": "code",
   "execution_count": 130,
   "id": "c893ce27",
   "metadata": {},
   "outputs": [],
   "source": [
    "myDizim = np.random.randint(20,1090,70)"
   ]
  },
  {
   "cell_type": "code",
   "execution_count": 131,
   "id": "89a407ac",
   "metadata": {},
   "outputs": [
    {
     "data": {
      "text/plain": [
       "array([ 147,  453,  615,  176,  396,  226,  978,  497,  119,  738,  911,\n",
       "        800,  841,  736,   44,  941,  839,  384,   38,  261,  262,  942,\n",
       "        979,  423,  863,  129,  185,  249,  222,  464,  927,  725,  469,\n",
       "        706,  729,  696,  402, 1072,  850,  805,  428,  879,  166,  638,\n",
       "        608,  689,  218,  506,  417,  333,  316, 1058,  941,  766,  119,\n",
       "        860,  897,  502,  383,  153,  414,  674,  526,  976,   86,  371,\n",
       "       1051,  719,  541,  784])"
      ]
     },
     "execution_count": 131,
     "metadata": {},
     "output_type": "execute_result"
    }
   ],
   "source": [
    "myDizim"
   ]
  },
  {
   "cell_type": "code",
   "execution_count": 132,
   "id": "a5b9db54",
   "metadata": {},
   "outputs": [
    {
     "data": {
      "text/plain": [
       "array([ True,  True,  True,  True,  True,  True,  True,  True,  True,\n",
       "        True,  True,  True,  True,  True, False,  True,  True,  True,\n",
       "       False,  True,  True,  True,  True,  True,  True,  True,  True,\n",
       "        True,  True,  True,  True,  True,  True,  True,  True,  True,\n",
       "        True,  True,  True,  True,  True,  True,  True,  True,  True,\n",
       "        True,  True,  True,  True,  True,  True,  True,  True,  True,\n",
       "        True,  True,  True,  True,  True,  True,  True,  True,  True,\n",
       "        True,  True,  True,  True,  True,  True,  True])"
      ]
     },
     "execution_count": 132,
     "metadata": {},
     "output_type": "execute_result"
    }
   ],
   "source": [
    "myDizim > 70"
   ]
  },
  {
   "cell_type": "markdown",
   "id": "12fae3eb",
   "metadata": {},
   "source": [
    "=> bu şekilde bir operatör kullanrak dizinin hangi indexlerinin belirtilen değerden büyük olduğunu görebiliriz."
   ]
  },
  {
   "cell_type": "code",
   "execution_count": 133,
   "id": "56479db5",
   "metadata": {},
   "outputs": [
    {
     "data": {
      "text/plain": [
       "array([ 147,  453,  615,  176,  396,  226,  978,  497,  119,  738,  911,\n",
       "        800,  841,  736,   44,  941,  839,  384,   38,  261,  262,  942,\n",
       "        979,  423,  863,  129,  185,  249,  222,  464,  927,  725,  469,\n",
       "        706,  729,  696,  402, 1072,  850,  805,  428,  879,  166,  638,\n",
       "        608,  689,  218,  506,  417,  333,  316, 1058,  941,  766,  119,\n",
       "        860,  897,  502,  383,  153,  414,  674,  526,  976,   86,  371,\n",
       "       1051,  719,  541,  784])"
      ]
     },
     "execution_count": 133,
     "metadata": {},
     "output_type": "execute_result"
    }
   ],
   "source": [
    "myDizim"
   ]
  },
  {
   "cell_type": "code",
   "execution_count": 136,
   "id": "420fe55b",
   "metadata": {},
   "outputs": [
    {
     "data": {
      "text/plain": [
       "array([44, 38, 86])"
      ]
     },
     "execution_count": 136,
     "metadata": {},
     "output_type": "execute_result"
    }
   ],
   "source": [
    "myDizim[myDizim < 90]"
   ]
  },
  {
   "cell_type": "markdown",
   "id": "0b5f0524",
   "metadata": {},
   "source": [
    "bu şekilde bir syntax yapar isek o zaman da bize ilgili değerleri döndürecektir."
   ]
  },
  {
   "cell_type": "code",
   "execution_count": 138,
   "id": "e3a2ce1b",
   "metadata": {},
   "outputs": [
    {
     "data": {
      "text/plain": [
       "array([ 149,  455,  617,  178,  398,  228,  980,  499,  121,  740,  913,\n",
       "        802,  843,  738,   46,  943,  841,  386,   40,  263,  264,  944,\n",
       "        981,  425,  865,  131,  187,  251,  224,  466,  929,  727,  471,\n",
       "        708,  731,  698,  404, 1074,  852,  807,  430,  881,  168,  640,\n",
       "        610,  691,  220,  508,  419,  335,  318, 1060,  943,  768,  121,\n",
       "        862,  899,  504,  385,  155,  416,  676,  528,  978,   88,  373,\n",
       "       1053,  721,  543,  786])"
      ]
     },
     "execution_count": 138,
     "metadata": {},
     "output_type": "execute_result"
    }
   ],
   "source": [
    "myDizim + 2"
   ]
  },
  {
   "cell_type": "code",
   "execution_count": 139,
   "id": "8f414323",
   "metadata": {},
   "outputs": [
    {
     "data": {
      "text/plain": [
       "array([ 294,  906, 1230,  352,  792,  452, 1956,  994,  238, 1476, 1822,\n",
       "       1600, 1682, 1472,   88, 1882, 1678,  768,   76,  522,  524, 1884,\n",
       "       1958,  846, 1726,  258,  370,  498,  444,  928, 1854, 1450,  938,\n",
       "       1412, 1458, 1392,  804, 2144, 1700, 1610,  856, 1758,  332, 1276,\n",
       "       1216, 1378,  436, 1012,  834,  666,  632, 2116, 1882, 1532,  238,\n",
       "       1720, 1794, 1004,  766,  306,  828, 1348, 1052, 1952,  172,  742,\n",
       "       2102, 1438, 1082, 1568])"
      ]
     },
     "execution_count": 139,
     "metadata": {},
     "output_type": "execute_result"
    }
   ],
   "source": [
    "myDizim * 2"
   ]
  },
  {
   "cell_type": "code",
   "execution_count": 140,
   "id": "b96af319",
   "metadata": {},
   "outputs": [],
   "source": [
    "fDizi = myDizim"
   ]
  },
  {
   "cell_type": "code",
   "execution_count": 141,
   "id": "168765d3",
   "metadata": {},
   "outputs": [
    {
     "data": {
      "text/plain": [
       "array([  21609,  205209,  378225,   30976,  156816,   51076,  956484,\n",
       "        247009,   14161,  544644,  829921,  640000,  707281,  541696,\n",
       "          1936,  885481,  703921,  147456,    1444,   68121,   68644,\n",
       "        887364,  958441,  178929,  744769,   16641,   34225,   62001,\n",
       "         49284,  215296,  859329,  525625,  219961,  498436,  531441,\n",
       "        484416,  161604, 1149184,  722500,  648025,  183184,  772641,\n",
       "         27556,  407044,  369664,  474721,   47524,  256036,  173889,\n",
       "        110889,   99856, 1119364,  885481,  586756,   14161,  739600,\n",
       "        804609,  252004,  146689,   23409,  171396,  454276,  276676,\n",
       "        952576,    7396,  137641, 1104601,  516961,  292681,  614656])"
      ]
     },
     "execution_count": 141,
     "metadata": {},
     "output_type": "execute_result"
    }
   ],
   "source": [
    "fDizi * myDizim"
   ]
  },
  {
   "cell_type": "markdown",
   "id": "9aa71d49",
   "metadata": {},
   "source": [
    "Bu şekilde diziler içinde operatör kullanabiliyoruz."
   ]
  },
  {
   "cell_type": "code",
   "execution_count": 142,
   "id": "5d76965a",
   "metadata": {},
   "outputs": [
    {
     "data": {
      "text/plain": [
       "array([12.12435565, 21.28379665, 24.79919354, 13.26649916, 19.89974874,\n",
       "       15.03329638, 31.27299154, 22.29349681, 10.90871211, 27.16615541,\n",
       "       30.18277655, 28.28427125, 29.        , 27.12931993,  6.63324958,\n",
       "       30.6757233 , 28.96549672, 19.59591794,  6.164414  , 16.15549442,\n",
       "       16.18641406, 30.69201851, 31.28897569, 20.5669638 , 29.37686164,\n",
       "       11.35781669, 13.60147051, 15.77973384, 14.89966443, 21.54065923,\n",
       "       30.4466747 , 26.92582404, 21.65640783, 26.57066051, 27.        ,\n",
       "       26.38181192, 20.04993766, 32.74141109, 29.15475947, 28.37252192,\n",
       "       20.68816087, 29.64793416, 12.88409873, 25.25866188, 24.65765601,\n",
       "       26.2488095 , 14.76482306, 22.49444376, 20.42057786, 18.24828759,\n",
       "       17.77638883, 32.52691193, 30.6757233 , 27.67670501, 10.90871211,\n",
       "       29.3257566 , 29.94995826, 22.4053565 , 19.57038579, 12.36931688,\n",
       "       20.34698995, 25.96150997, 22.93468988, 31.2409987 ,  9.2736185 ,\n",
       "       19.26136028, 32.41913015, 26.81417536, 23.2594067 , 28.        ])"
      ]
     },
     "execution_count": 142,
     "metadata": {},
     "output_type": "execute_result"
    }
   ],
   "source": [
    "np.sqrt(fDizi)"
   ]
  },
  {
   "cell_type": "markdown",
   "id": "eb44f0a6",
   "metadata": {},
   "source": [
    "=> Karekök alma bile yapabiliriz!"
   ]
  },
  {
   "cell_type": "code",
   "execution_count": null,
   "id": "bba254cc",
   "metadata": {},
   "outputs": [],
   "source": []
  }
 ],
 "metadata": {
  "kernelspec": {
   "display_name": "Python 3 (ipykernel)",
   "language": "python",
   "name": "python3"
  },
  "language_info": {
   "codemirror_mode": {
    "name": "ipython",
    "version": 3
   },
   "file_extension": ".py",
   "mimetype": "text/x-python",
   "name": "python",
   "nbconvert_exporter": "python",
   "pygments_lexer": "ipython3",
   "version": "3.9.13"
  }
 },
 "nbformat": 4,
 "nbformat_minor": 5
}

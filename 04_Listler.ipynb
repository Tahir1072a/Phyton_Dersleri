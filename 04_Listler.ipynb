{
 "cells": [
  {
   "cell_type": "code",
   "execution_count": 3,
   "id": "90499035",
   "metadata": {},
   "outputs": [
    {
     "data": {
      "text/plain": [
       "list"
      ]
     },
     "execution_count": 3,
     "metadata": {},
     "output_type": "execute_result"
    }
   ],
   "source": [
    "listem = [10,20,30,\"Tahiri\"]\n",
    "type(listem)"
   ]
  },
  {
   "cell_type": "code",
   "execution_count": 6,
   "id": "92ef21b9",
   "metadata": {},
   "outputs": [
    {
     "name": "stdout",
     "output_type": "stream",
     "text": [
      "[10, 20]\n"
     ]
    }
   ],
   "source": [
    "x = 10\n",
    "y = 20\n",
    "listem2 = [x,y]\n",
    "print(listem2)"
   ]
  },
  {
   "cell_type": "code",
   "execution_count": 9,
   "id": "60d684e6",
   "metadata": {},
   "outputs": [
    {
     "name": "stdout",
     "output_type": "stream",
     "text": [
      "[10, 20, 30, 0]\n"
     ]
    }
   ],
   "source": [
    "listem[3] = 0\n",
    "print(listem)"
   ]
  },
  {
   "cell_type": "code",
   "execution_count": 49,
   "id": "972cd306",
   "metadata": {},
   "outputs": [
    {
     "name": "stdout",
     "output_type": "stream",
     "text": [
      "['Tahiri', 10]\n"
     ]
    }
   ],
   "source": [
    "listem.append(10)\n",
    "print(listem)"
   ]
  },
  {
   "cell_type": "markdown",
   "id": "aab4b17d",
   "metadata": {},
   "source": [
    "append() : ekleme işlemi yapar."
   ]
  },
  {
   "cell_type": "code",
   "execution_count": 13,
   "id": "42cbc0b3",
   "metadata": {},
   "outputs": [
    {
     "name": "stdout",
     "output_type": "stream",
     "text": [
      "[]\n"
     ]
    }
   ],
   "source": [
    "listem.clear()\n",
    "print(listem)"
   ]
  },
  {
   "cell_type": "code",
   "execution_count": 23,
   "id": "50deb70d",
   "metadata": {},
   "outputs": [
    {
     "name": "stdout",
     "output_type": "stream",
     "text": [
      "Tahiri\n",
      "['Tahiri', 'Tahiri']\n"
     ]
    }
   ],
   "source": [
    "print(listem.pop())\n",
    "print(listem)"
   ]
  },
  {
   "cell_type": "markdown",
   "id": "d0e9f0d4",
   "metadata": {},
   "source": [
    "pop() : sondaki elemanı listeden atar ama atamdan önce o değeri return eder."
   ]
  },
  {
   "cell_type": "code",
   "execution_count": 40,
   "id": "830f8d70",
   "metadata": {},
   "outputs": [
    {
     "name": "stdout",
     "output_type": "stream",
     "text": [
      "['Tahiri']\n"
     ]
    }
   ],
   "source": [
    "listem.remove(\"Tahiri\")\n",
    "print(listem)"
   ]
  },
  {
   "cell_type": "markdown",
   "id": "6d70a5d1",
   "metadata": {},
   "source": [
    "remove() : ilgili elemanı listeden çıkartır. Aynı elemandan birden fazla olsa bile sadece bir tanesini çıkartır."
   ]
  },
  {
   "cell_type": "code",
   "execution_count": 37,
   "id": "3e44757e",
   "metadata": {},
   "outputs": [
    {
     "data": {
      "text/plain": [
       "2"
      ]
     },
     "execution_count": 37,
     "metadata": {},
     "output_type": "execute_result"
    }
   ],
   "source": [
    "listem.count(\"Tahiri\")"
   ]
  },
  {
   "cell_type": "markdown",
   "id": "9797cd20",
   "metadata": {},
   "source": [
    "count() : listem de ilgili elemandan kaç tane olduğunu gösterir."
   ]
  },
  {
   "cell_type": "code",
   "execution_count": 41,
   "id": "448a5cf0",
   "metadata": {},
   "outputs": [
    {
     "data": {
      "text/plain": [
       "1"
      ]
     },
     "execution_count": 41,
     "metadata": {},
     "output_type": "execute_result"
    }
   ],
   "source": [
    "len(listem)"
   ]
  },
  {
   "cell_type": "markdown",
   "id": "b9bdecaf",
   "metadata": {},
   "source": [
    "len() : fonksiyonu listenin içindeki eleman sayısı return eder."
   ]
  },
  {
   "cell_type": "code",
   "execution_count": 42,
   "id": "4ceeaa42",
   "metadata": {},
   "outputs": [
    {
     "data": {
      "text/plain": [
       "['Tahiri', 10, 20]"
      ]
     },
     "execution_count": 42,
     "metadata": {},
     "output_type": "execute_result"
    }
   ],
   "source": [
    "listem + listem2"
   ]
  },
  {
   "cell_type": "markdown",
   "id": "606f94d3",
   "metadata": {},
   "source": [
    "Diğer dillerde olmayan bu işlem ile phyton da, listeler kolay bir şekilde toplanabilir. Hatta aşağıda ki örnekte görüleceği üzere çarpma işlemine de izin verir."
   ]
  },
  {
   "cell_type": "code",
   "execution_count": 44,
   "id": "b68f81cd",
   "metadata": {},
   "outputs": [
    {
     "data": {
      "text/plain": [
       "['Tahiri',\n",
       " 'Tahiri',\n",
       " 'Tahiri',\n",
       " 'Tahiri',\n",
       " 'Tahiri',\n",
       " 'Tahiri',\n",
       " 'Tahiri',\n",
       " 'Tahiri',\n",
       " 'Tahiri',\n",
       " 'Tahiri']"
      ]
     },
     "execution_count": 44,
     "metadata": {},
     "output_type": "execute_result"
    }
   ],
   "source": [
    "listem * 10"
   ]
  },
  {
   "cell_type": "code",
   "execution_count": 45,
   "id": "7a129469",
   "metadata": {},
   "outputs": [
    {
     "data": {
      "text/plain": [
       "[10, 20]"
      ]
     },
     "execution_count": 45,
     "metadata": {},
     "output_type": "execute_result"
    }
   ],
   "source": [
    "listem2"
   ]
  },
  {
   "cell_type": "code",
   "execution_count": 48,
   "id": "65d9bd67",
   "metadata": {},
   "outputs": [
    {
     "name": "stdout",
     "output_type": "stream",
     "text": [
      "[20, 10]\n"
     ]
    }
   ],
   "source": [
    "listem2.reverse()\n",
    "print(listem2)"
   ]
  },
  {
   "cell_type": "markdown",
   "id": "64f31386",
   "metadata": {},
   "source": [
    "reverse() : listeyi tersine çevirir."
   ]
  },
  {
   "cell_type": "code",
   "execution_count": 55,
   "id": "bad653c5",
   "metadata": {},
   "outputs": [
    {
     "name": "stdout",
     "output_type": "stream",
     "text": [
      "<class 'list'>\n",
      "<class 'list'>\n"
     ]
    }
   ],
   "source": [
    "print(type(listem2))\n",
    "print(type(listem))"
   ]
  },
  {
   "cell_type": "markdown",
   "id": "90336dbe",
   "metadata": {},
   "source": [
    "listelerin bir primitive bir tipi yoktur. İçinde hangi veri tipinin olduğuna bakılmaksızın list sınıfı döner."
   ]
  },
  {
   "cell_type": "code",
   "execution_count": 63,
   "id": "3767de64",
   "metadata": {},
   "outputs": [
    {
     "name": "stdout",
     "output_type": "stream",
     "text": [
      "['Tahiri', 10, [20, 10], [20, 10], [20, 10], [20, 10], [20, 10], [20, 10], [20, 10]]\n",
      "[20, 10]\n"
     ]
    }
   ],
   "source": [
    "listem.append(listem2)\n",
    "print(listem)\n",
    "print(listem[2])"
   ]
  },
  {
   "cell_type": "markdown",
   "id": "49974bae",
   "metadata": {},
   "source": [
    "Bu şekilde liste içine liste de konulabilir. BU tür listelere Nested List denir.(İç içe liste)"
   ]
  },
  {
   "cell_type": "code",
   "execution_count": 64,
   "id": "15400de9",
   "metadata": {},
   "outputs": [
    {
     "name": "stdout",
     "output_type": "stream",
     "text": [
      "10\n"
     ]
    }
   ],
   "source": [
    "x = listem[2][1]\n",
    "print(x)"
   ]
  },
  {
   "cell_type": "markdown",
   "id": "f24f0aa1",
   "metadata": {},
   "source": [
    "Bu şekilde liste içindeki listelerin içindeki tekil elemanlara da ulaşabiliriz.\n"
   ]
  },
  {
   "cell_type": "markdown",
   "id": "aebd5820",
   "metadata": {},
   "source": [
    "# Dictionary"
   ]
  },
  {
   "cell_type": "code",
   "execution_count": 79,
   "id": "97b54713",
   "metadata": {},
   "outputs": [
    {
     "data": {
      "text/plain": [
       "dict"
      ]
     },
     "execution_count": 79,
     "metadata": {},
     "output_type": "execute_result"
    }
   ],
   "source": [
    "myDictionary = {\"keyValue\" : \"Value\", 0 : \"Tahiri\", \"List\" : [10,20,30], \"Dictionary\" : {0 : \"Ayşe\", 1 : \"Betül\"}}\n",
    "type(myDictionary)"
   ]
  },
  {
   "cell_type": "code",
   "execution_count": 83,
   "id": "835e0307",
   "metadata": {},
   "outputs": [
    {
     "data": {
      "text/plain": [
       "'Betül'"
      ]
     },
     "execution_count": 83,
     "metadata": {},
     "output_type": "execute_result"
    }
   ],
   "source": [
    "myDictionary[\"Dictionary\"][1]"
   ]
  },
  {
   "cell_type": "markdown",
   "id": "22b15f49",
   "metadata": {},
   "source": [
    "Görüldüğü üzere dictionary yapısının içine liste ve hatta dictionary de eklenebilir."
   ]
  },
  {
   "cell_type": "code",
   "execution_count": 84,
   "id": "90062bb5",
   "metadata": {},
   "outputs": [
    {
     "data": {
      "text/plain": [
       "dict_keys(['keyValue', 0, 'List', 'Dictionary'])"
      ]
     },
     "execution_count": 84,
     "metadata": {},
     "output_type": "execute_result"
    }
   ],
   "source": [
    "myDictionary.keys()"
   ]
  },
  {
   "cell_type": "markdown",
   "id": "ebef1e97",
   "metadata": {},
   "source": [
    "keys() : sadece anahtar kelimeleri return eder."
   ]
  },
  {
   "cell_type": "code",
   "execution_count": 85,
   "id": "26168014",
   "metadata": {},
   "outputs": [
    {
     "data": {
      "text/plain": [
       "dict_values(['Value', 'Tahiri', [10, 20, 30], {0: 'Ayşe', 1: 'Betül'}])"
      ]
     },
     "execution_count": 85,
     "metadata": {},
     "output_type": "execute_result"
    }
   ],
   "source": [
    "myDictionary.values()"
   ]
  },
  {
   "cell_type": "markdown",
   "id": "33aa6e64",
   "metadata": {},
   "source": [
    "values() : Dictionary içindeki tüm değerleri return eder."
   ]
  },
  {
   "cell_type": "code",
   "execution_count": null,
   "id": "593ae207",
   "metadata": {},
   "outputs": [],
   "source": []
  }
 ],
 "metadata": {
  "kernelspec": {
   "display_name": "Python 3 (ipykernel)",
   "language": "python",
   "name": "python3"
  },
  "language_info": {
   "codemirror_mode": {
    "name": "ipython",
    "version": 3
   },
   "file_extension": ".py",
   "mimetype": "text/x-python",
   "name": "python",
   "nbconvert_exporter": "python",
   "pygments_lexer": "ipython3",
   "version": "3.9.13"
  }
 },
 "nbformat": 4,
 "nbformat_minor": 5
}

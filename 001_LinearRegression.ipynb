{
 "cells": [
  {
   "cell_type": "code",
   "id": "initial_id",
   "metadata": {
    "collapsed": true,
    "ExecuteTime": {
     "end_time": "2024-10-23T14:18:23.065091Z",
     "start_time": "2024-10-23T14:18:23.061818Z"
    }
   },
   "source": [
    "import numpy as np\n",
    "import matplotlib.pyplot as plt\n",
    "import math"
   ],
   "outputs": [],
   "execution_count": 24
  },
  {
   "metadata": {},
   "cell_type": "markdown",
   "source": [
    "Aşağıdaki kodlar bir tek değişkenli veri seti için lineer regression kullanılarak bir model eğitimi yapmayı göstermektedir.\n",
    "\n",
    "İlk olarak bize ilgili w ve b değerleri için veri setine göre cost hesaplaması yapmak için **\"hata kareler\"** cost fonksiyonunu tanımlayalım. "
   ],
   "id": "6c907468a1750c36"
  },
  {
   "metadata": {
    "ExecuteTime": {
     "end_time": "2024-10-23T14:17:51.618754Z",
     "start_time": "2024-10-23T14:17:51.616245Z"
    }
   },
   "cell_type": "code",
   "source": [
    "x_train = np.array([98,97,93,86,80,74,67,60,25,50,10,37])\n",
    "y_train = np.array([134,130,128,125,120,116,112,100,90,92,95,93])\n",
    "# \n",
    "# x_train = np.array([1.0, 2.0])   #features\n",
    "# y_train = np.array([300.0, 500.0])   #target value\n",
    "\n",
    "def compute_cost(x,y,w,b):\n",
    "    m = x.shape[0]\n",
    "    total_cost = 0\n",
    "    \n",
    "    for i in range(m):\n",
    "        f_wb = w * x[i] + b\n",
    "        cost_i = (f_wb - y[i]) ** 2\n",
    "        total_cost += cost_i\n",
    "    \n",
    "    total_cost /= 2 * m\n",
    "    return total_cost"
   ],
   "id": "dd5fee8fbce4345c",
   "outputs": [],
   "execution_count": 20
  },
  {
   "metadata": {},
   "cell_type": "markdown",
   "source": "Şimdi ise J(w,b) *cost function* için kısmi türev hesabı yapmamız gerekiyor. O yüzden w ve b değerlerinin değişim oranını hesaplayalım. Bu değişim oranına bakarak **w ve b** parametreleri için yeni değerlerini hesaplayabilirirz.",
   "id": "89c3b66c3105d1"
  },
  {
   "metadata": {
    "ExecuteTime": {
     "end_time": "2024-10-23T14:18:49.731219Z",
     "start_time": "2024-10-23T14:18:49.715485Z"
    }
   },
   "cell_type": "code",
   "source": [
    "def compute_gradient(x,y,w,b):\n",
    "    m = x.shape[0]\n",
    "    dj_dw = 0\n",
    "    dj_db = 0\n",
    "    \n",
    "    for i in range(m):\n",
    "        f_wb = w * x[i] + b\n",
    "        dj_dw_i = (f_wb - y[i]) * x[i]\n",
    "        dj_db_i = f_wb - y[i]\n",
    "        dj_dw += dj_dw_i\n",
    "        dj_db += dj_db_i\n",
    "    dj_db /= m\n",
    "    dj_dw /= m\n",
    "    \n",
    "    return dj_dw, dj_db"
   ],
   "id": "30230ac575c8318f",
   "outputs": [],
   "execution_count": 30
  },
  {
   "metadata": {},
   "cell_type": "markdown",
   "source": [
    "Şimdi modelimizi artık eğiteceğimiz kısma geldik. Elimizde sağlanan w ve b değerleri için değişim oranı hesaplayan bir fonksiyonumuz var.\n",
    "Artık bu fonksiyonu ve ek birkaç değeri daha kullanarak en düşük cost değerini sağlayan bir w ve b değeri bulabiliriz."
   ],
   "id": "69b3ba67f17ea9a6"
  },
  {
   "metadata": {
    "ExecuteTime": {
     "end_time": "2024-10-23T14:22:15.058723Z",
     "start_time": "2024-10-23T14:22:15.053297Z"
    }
   },
   "cell_type": "code",
   "source": [
    "def gradient_descent(x,y,w_in,b_in,num_iters,alpha,cost_function,gradient_function):\n",
    "    \"\"\"\n",
    "    Performs gradient descent to fit w,b. Updates w,b by taking \n",
    "    num_iters gradient steps with learning rate alpha\n",
    "    \n",
    "    Args:\n",
    "      x (ndarray (m,))  : Data, m examples \n",
    "      y (ndarray (m,))  : target values\n",
    "      w_in,b_in (scalar): initial values of model parameters  \n",
    "      alpha (float):     Learning rate\n",
    "      num_iters (int):   number of iterations to run gradient descent\n",
    "      cost_function:     function to call to produce cost\n",
    "      gradient_function: function to call to produce gradient\n",
    "      \n",
    "    Returns:\n",
    "      w (scalar): Updated value of parameter after running gradient descent\n",
    "      b (scalar): Updated value of parameter after running gradient descent\n",
    "      J_history (List): History of cost values\n",
    "      p_history (list): History of parameters [w,b] \n",
    "      \"\"\"\n",
    "    \n",
    "    J_History = []\n",
    "    p_History = []\n",
    "    w = w_in\n",
    "    b = b_in\n",
    "    \n",
    "    for i in range(num_iters):\n",
    "        dj_dw, dj_db = gradient_function(x,y,w,b)\n",
    "        \n",
    "        w = w - alpha * dj_dw\n",
    "        b = b - alpha * dj_db\n",
    "        \n",
    "        if i < 100000:\n",
    "            J_History.append(cost_function(x,y,w,b))\n",
    "            p_History.append([w,b])\n",
    "            \n",
    "        if i % math.ceil(num_iters / 10) == 0:\n",
    "            print(f\"Iteration: {i:4}: Cost {J_History[-1]:0.2e}\", \n",
    "                  f\"dj_dw: {dj_dw:0.3e} dj_db: {dj_db:0.3e}\",\n",
    "                  f\"w: {w:0.3e} b: {b:0.5e}\")\n",
    "            \n",
    "    return w, b, J_History, p_History"
   ],
   "id": "48ca56a886f6a966",
   "outputs": [],
   "execution_count": 41
  },
  {
   "metadata": {
    "ExecuteTime": {
     "end_time": "2024-10-23T14:25:20.420310Z",
     "start_time": "2024-10-23T14:25:18.514185Z"
    }
   },
   "cell_type": "code",
   "source": [
    "w_init = 0\n",
    "b_init = 0\n",
    "\n",
    "iterations = 200000\n",
    "tmp_alpha = 1.0e-4  #1.0e-2 demek 1.0 * 10^-2 demektir.\n",
    "\n",
    "w_final, b_final, j_History, p_history = gradient_descent(x_train, y_train,w_init, b_init, iterations, tmp_alpha,compute_cost, compute_gradient)\n",
    "\n",
    "print(f\"(w,b) değerleri yapay zeka taraından tespit edilmiştir: ({w_final, b_final})\" )"
   ],
   "id": "df991300d653c52f",
   "outputs": [
    {
     "name": "stdout",
     "output_type": "stream",
     "text": [
      "Iteration:    0: Cost 1.96e+03 dj_dw: -7.610e+03 dj_db: -1.112e+02 w: 7.610e-01 b: 1.11250e-02\n",
      "Iteration: 20000: Cost 2.67e+02 dj_dw: 1.150e-01 dj_db: -8.824e+00 w: 1.262e+00 b: 2.07339e+01\n",
      "Iteration: 40000: Cost 1.51e+02 dj_dw: 8.417e-02 dj_db: -6.458e+00 w: 1.064e+00 b: 3.58930e+01\n",
      "Iteration: 60000: Cost 8.91e+01 dj_dw: 6.160e-02 dj_db: -4.726e+00 w: 9.195e-01 b: 4.69874e+01\n",
      "Iteration: 80000: Cost 5.59e+01 dj_dw: 4.509e-02 dj_db: -3.459e+00 w: 8.136e-01 b: 5.51072e+01\n",
      "Iteration: 100000: Cost 3.81e+01 dj_dw: 3.300e-02 dj_db: -2.532e+00 w: 7.362e-01 b: 6.10498e+01\n",
      "Iteration: 120000: Cost 3.81e+01 dj_dw: 2.415e-02 dj_db: -1.853e+00 w: 6.795e-01 b: 6.53990e+01\n",
      "Iteration: 140000: Cost 3.81e+01 dj_dw: 1.767e-02 dj_db: -1.356e+00 w: 6.380e-01 b: 6.85820e+01\n",
      "Iteration: 160000: Cost 3.81e+01 dj_dw: 1.294e-02 dj_db: -9.925e-01 w: 6.077e-01 b: 7.09116e+01\n",
      "Iteration: 180000: Cost 3.81e+01 dj_dw: 9.467e-03 dj_db: -7.263e-01 w: 5.854e-01 b: 7.26166e+01\n",
      "(w,b) değerleri yapay zeka taraından tespit edilmiştir: ((0.5691745222887128, 73.86435733267464))\n"
     ]
    }
   ],
   "execution_count": 62
  },
  {
   "metadata": {
    "ExecuteTime": {
     "end_time": "2024-10-23T14:25:26.949011Z",
     "start_time": "2024-10-23T14:25:26.746509Z"
    }
   },
   "cell_type": "code",
   "source": [
    "# plot cost versus iteration => Adım adım çizdirme  \n",
    "fig, (ax1, ax2) = plt.subplots(1, 2, constrained_layout=True, figsize=(12,4))\n",
    "ax1.plot(j_History[:100])\n",
    "ax2.plot(1000 + np.arange(len(j_History[1000:])), j_History[1000:])\n",
    "ax1.set_title(\"Cost vs. iteration(start)\");  ax2.set_title(\"Cost vs. iteration (end)\")\n",
    "ax1.set_ylabel('Cost')            ;  ax2.set_ylabel('Cost') \n",
    "ax1.set_xlabel('iteration step')  ;  ax2.set_xlabel('iteration step') \n",
    "plt.show()"
   ],
   "id": "db249c0609160da5",
   "outputs": [
    {
     "data": {
      "text/plain": [
       "<Figure size 1200x400 with 2 Axes>"
      ],
      "image/png": "[encoded data removed]"
     },
     "metadata": {},
     "output_type": "display_data"
    }
   ],
   "execution_count": 63
  },
  {
   "metadata": {
    "ExecuteTime": {
     "end_time": "2024-10-23T14:28:54.055400Z",
     "start_time": "2024-10-23T14:28:54.050969Z"
    }
   },
   "cell_type": "code",
   "source": [
    "print(f\"Tahiri öğrencisinin tahmini iq değeri: {w_final*98.0 + b_final:0.1f}\")\n",
    "print(f\"Sadık öğrencisinin tahmini iq değeri: {w_final * 92.0 + b_final:0.1f}\")\n",
    "print(f\"Ağbal öğrencisinin tahmini iq değeri: {w_final * 100.0 + b_final:0.1f}\")"
   ],
   "id": "4d6ec6df0b84f847",
   "outputs": [
    {
     "name": "stdout",
     "output_type": "stream",
     "text": [
      "Tahiri öğrencisinin tahmini iq değeri: 129.6\n",
      "Sadık öğrencisinin tahmini iq değeri: 126.2\n",
      "Ağbal öğrencisinin tahmini iq değeri: 130.8\n"
     ]
    }
   ],
   "execution_count": 68
  },
  {
   "metadata": {},
   "cell_type": "code",
   "outputs": [],
   "execution_count": null,
   "source": "",
   "id": "7c94302c2bd16105"
  }
 ],
 "metadata": {
  "kernelspec": {
   "display_name": "Python 3",
   "language": "python",
   "name": "python3"
  },
  "language_info": {
   "codemirror_mode": {
    "name": "ipython",
    "version": 2
   },
   "file_extension": ".py",
   "mimetype": "text/x-python",
   "name": "python",
   "nbconvert_exporter": "python",
   "pygments_lexer": "ipython2",
   "version": "2.7.6"
  }
 },
 "nbformat": 4,
 "nbformat_minor": 5
}

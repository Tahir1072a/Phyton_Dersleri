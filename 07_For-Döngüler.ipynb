{
 "cells": [
  {
   "cell_type": "code",
   "execution_count": 11,
   "id": "d833b610",
   "metadata": {},
   "outputs": [],
   "source": [
    "listem = [\"Tahiri\",\"Fidan\",\"Asker\",1,2,3]"
   ]
  },
  {
   "cell_type": "code",
   "execution_count": 12,
   "id": "7fc60dea",
   "metadata": {},
   "outputs": [
    {
     "name": "stdout",
     "output_type": "stream",
     "text": [
      "Tahiri\n",
      "Bu bir stringtir\n",
      "Fidan\n",
      "Bu bir stringtir\n",
      "Asker\n",
      "Bu bir stringtir\n",
      "1\n",
      "1\n",
      "2\n",
      "8\n",
      "3\n",
      "27\n"
     ]
    }
   ],
   "source": [
    "for temp in listem:\n",
    "    print(temp)\n",
    "    if(type(temp) == int or type(temp) == float):\n",
    "        print(temp ** 3)\n",
    "    elif type(temp) == str:\n",
    "        print(\"Bu bir stringtir\")"
   ]
  },
  {
   "cell_type": "code",
   "execution_count": 13,
   "id": "b8adf31a",
   "metadata": {},
   "outputs": [
    {
     "name": "stdout",
     "output_type": "stream",
     "text": [
      "0 1\n",
      "9 12\n",
      "0 4\n"
     ]
    }
   ],
   "source": [
    "listem2 = [(0,1),(9,12),(0,4)]\n",
    "for (x,y) in listem2:\n",
    "    print(x,y)"
   ]
  },
  {
   "cell_type": "markdown",
   "id": "a28e683f",
   "metadata": {},
   "source": [
    "# Continue-Break-Pass"
   ]
  },
  {
   "cell_type": "code",
   "execution_count": 14,
   "id": "b928b3fa",
   "metadata": {},
   "outputs": [
    {
     "name": "stdout",
     "output_type": "stream",
     "text": [
      "Tahiri\n",
      "Fidan\n",
      "Asker\n"
     ]
    }
   ],
   "source": [
    "for temp in listem:\n",
    "    if type(temp) == int or type(temp) == float:\n",
    "       break\n",
    "    print(temp)"
   ]
  },
  {
   "cell_type": "markdown",
   "id": "23c48c69",
   "metadata": {},
   "source": [
    "# While"
   ]
  },
  {
   "cell_type": "code",
   "execution_count": 15,
   "id": "0f357198",
   "metadata": {},
   "outputs": [
    {
     "name": "stdout",
     "output_type": "stream",
     "text": [
      "Tahiri\n",
      "Fidan\n",
      "Asker\n",
      "1\n"
     ]
    }
   ],
   "source": [
    "temp = None\n",
    "i = 0\n",
    "while type(temp) != int:\n",
    "    temp = listem[i]\n",
    "    i +=1\n",
    "    print(temp)"
   ]
  },
  {
   "cell_type": "code",
   "execution_count": null,
   "id": "19473341",
   "metadata": {},
   "outputs": [],
   "source": []
  }
 ],
 "metadata": {
  "kernelspec": {
   "display_name": "Python 3 (ipykernel)",
   "language": "python",
   "name": "python3"
  },
  "language_info": {
   "codemirror_mode": {
    "name": "ipython",
    "version": 3
   },
   "file_extension": ".py",
   "mimetype": "text/x-python",
   "name": "python",
   "nbconvert_exporter": "python",
   "pygments_lexer": "ipython3",
   "version": "3.9.13"
  }
 },
 "nbformat": 4,
 "nbformat_minor": 5
}

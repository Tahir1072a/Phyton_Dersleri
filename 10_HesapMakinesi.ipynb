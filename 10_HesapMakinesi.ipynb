{
 "cells": [
  {
   "cell_type": "code",
   "execution_count": 11,
   "id": "a0b9b447",
   "metadata": {},
   "outputs": [],
   "source": [
    "def Hesapla(num1,num2,islem):\n",
    "    \n",
    "    if islem not in \"+/*-\":\n",
    "        return \"Hatali bir tuşlama yaptiniz. Lütfen şu islemlerden birini secin: +/*-\"\n",
    "    if islem == \"+\":\n",
    "        return num1 + num2\n",
    "    elif islem == \"-\":\n",
    "        return num1 - num2\n",
    "    elif islem == \"*\":\n",
    "        return num1 * num2\n",
    "    else:\n",
    "        return num1 / num2"
   ]
  },
  {
   "cell_type": "code",
   "execution_count": 14,
   "id": "4c497d76",
   "metadata": {},
   "outputs": [
    {
     "name": "stdout",
     "output_type": "stream",
     "text": [
      "1. sayi giriniz :i\n",
      "Lütfen sayıları düzgün giriniz!\n",
      "1. sayi giriniz :ğ\n",
      "Lütfen sayıları düzgün giriniz!\n",
      "1. sayi giriniz :üasdşasşfağşfaeğşs\n",
      "Lütfen sayıları düzgün giriniz!\n",
      "1. sayi giriniz :7\n",
      "2. sayi giriniz :e\n",
      "Lütfen sayıları düzgün giriniz!\n",
      "1. sayi giriniz :10\n",
      "2. sayi giriniz :20\n",
      "Yapacaginiz islemi girizin(+-/*):*\n",
      "200.0\n",
      "Devam etmek için e'ye basinr\n",
      "Uygulamayı kullandığınız için teşşekkürler!\n"
     ]
    }
   ],
   "source": [
    "kontrol = True\n",
    "while kontrol:\n",
    "    try:\n",
    "        a = float(input(\"1. sayi giriniz :\"))\n",
    "        b = float(input(\"2. sayi giriniz :\"))\n",
    "        islem = input(\"Yapacaginiz islemi girizin(+-/*):\")\n",
    "        sonuc = Hesapla(a,b,islem)\n",
    "        if type(sonuc) != (float or int):\n",
    "            print(sonuc)\n",
    "            continue\n",
    "        else:\n",
    "            print(sonuc)\n",
    "        if not input(\"Devam etmek için e'ye basin\") == \"e\":\n",
    "            kontrol = False\n",
    "            print(\"Uygulamayı kullandığınız için teşşekkürler!\")\n",
    "    except:\n",
    "        print(\"Lütfen sayıları düzgün giriniz!\")"
   ]
  },
  {
   "cell_type": "code",
   "execution_count": null,
   "id": "c17fade3",
   "metadata": {},
   "outputs": [],
   "source": []
  },
  {
   "cell_type": "code",
   "execution_count": null,
   "id": "2a0eefac",
   "metadata": {},
   "outputs": [],
   "source": []
  }
 ],
 "metadata": {
  "kernelspec": {
   "display_name": "Python 3 (ipykernel)",
   "language": "python",
   "name": "python3"
  },
  "language_info": {
   "codemirror_mode": {
    "name": "ipython",
    "version": 3
   },
   "file_extension": ".py",
   "mimetype": "text/x-python",
   "name": "python",
   "nbconvert_exporter": "python",
   "pygments_lexer": "ipython3",
   "version": "3.9.13"
  }
 },
 "nbformat": 4,
 "nbformat_minor": 5
}

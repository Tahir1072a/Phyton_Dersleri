{
 "cells": [
  {
   "cell_type": "code",
   "execution_count": 2,
   "id": "78699639",
   "metadata": {},
   "outputs": [
    {
     "name": "stdout",
     "output_type": "stream",
     "text": [
      "Bir sayi giriniz :100\n",
      "Dahi\n"
     ]
    }
   ],
   "source": [
    "x = 10\n",
    "y = 20\n",
    "k = int(input(\"Bir sayi giriniz :\"))\n",
    "if(x > y):\n",
    "    if((x*y) > k):\n",
    "        print(\"Mal\")\n",
    "    else:\n",
    "        print(\"Akıllı\")\n",
    "else:\n",
    "    if((y/x) > k):\n",
    "        print(\"Aptal\")\n",
    "    else:\n",
    "        print(\"Dahi\")"
   ]
  },
  {
   "cell_type": "code",
   "execution_count": 25,
   "id": "b8d4b150",
   "metadata": {},
   "outputs": [
    {
     "name": "stdout",
     "output_type": "stream",
     "text": [
      "Ne bakıyon lan\n"
     ]
    }
   ],
   "source": [
    "name1 = \"Tahiri\"\n",
    "name2 = \"Tahir\"\n",
    "if(name1 == name2):\n",
    "    print(\"İkizin var\")\n",
    "else:\n",
    "    print(\"Ne bakıyon lan\")"
   ]
  },
  {
   "cell_type": "code",
   "execution_count": 19,
   "id": "f7589de0",
   "metadata": {},
   "outputs": [
    {
     "name": "stdout",
     "output_type": "stream",
     "text": [
      "{0, 1, 2, 3}\n",
      "Listem setim ile eşit ancak, listem2 ile eşit değil\n"
     ]
    }
   ],
   "source": [
    "listem = [0,1,2,3]\n",
    "listem2 = [0,1,2,3,3]\n",
    "setim = set()\n",
    "setim = set(listem)\n",
    "print(setim)\n",
    "if(listem == listem2):\n",
    "    print(\"Listeler eşit\")\n",
    "elif listem2 == setim:\n",
    "    print(\"Listem hiçbir liste ile eşit değil!\")\n",
    "elif(listem != listem2 and listem == list(setim)):\n",
    "    print(\"Listem setim ile eşit ancak, listem2 ile eşit değil\")"
   ]
  },
  {
   "cell_type": "code",
   "execution_count": 26,
   "id": "37944f3b",
   "metadata": {},
   "outputs": [
    {
     "name": "stdout",
     "output_type": "stream",
     "text": [
      "Var\n"
     ]
    }
   ],
   "source": [
    "if \"Ta\" in name1:\n",
    "    print(\"Var\")"
   ]
  },
  {
   "cell_type": "code",
   "execution_count": null,
   "id": "682a09ce",
   "metadata": {},
   "outputs": [],
   "source": []
  }
 ],
 "metadata": {
  "kernelspec": {
   "display_name": "Python 3 (ipykernel)",
   "language": "python",
   "name": "python3"
  },
  "language_info": {
   "codemirror_mode": {
    "name": "ipython",
    "version": 3
   },
   "file_extension": ".py",
   "mimetype": "text/x-python",
   "name": "python",
   "nbconvert_exporter": "python",
   "pygments_lexer": "ipython3",
   "version": "3.9.13"
  }
 },
 "nbformat": 4,
 "nbformat_minor": 5
}

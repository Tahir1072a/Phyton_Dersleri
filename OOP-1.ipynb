{
 "cells": [
  {
   "cell_type": "markdown",
   "id": "17adb760",
   "metadata": {},
   "source": [
    "# instance & attribute"
   ]
  },
  {
   "cell_type": "code",
   "execution_count": 35,
   "id": "d070638c",
   "metadata": {},
   "outputs": [],
   "source": [
    "class SuperKahraman():\n",
    "    \n",
    "    multiplier = 7;\n",
    "    \n",
    "    def __init__(self):\n",
    "        print(\"Object created!\")\n",
    "    def CreateSuperman(self):\n",
    "        print(\"Superman created\")"
   ]
  },
  {
   "cell_type": "markdown",
   "id": "6cfc71dc",
   "metadata": {},
   "source": [
    "burada constructer yapısını oluşturmuş olduk. Phyton da self anahtar sözcüğünü kullanmak zorundayız. Self, c# da this gibi bu sınıfı temsil ediyor."
   ]
  },
  {
   "cell_type": "code",
   "execution_count": 36,
   "id": "012029f3",
   "metadata": {},
   "outputs": [
    {
     "name": "stdout",
     "output_type": "stream",
     "text": [
      "Object created!\n"
     ]
    }
   ],
   "source": [
    "superman = SuperKahraman()"
   ]
  },
  {
   "cell_type": "code",
   "execution_count": 44,
   "id": "8fe361ad",
   "metadata": {},
   "outputs": [],
   "source": [
    "class Kopek():\n",
    "    \n",
    "    multiplier = 7;\n",
    "    \n",
    "    def __init__(self,yas):\n",
    "        self.yas = yas\n",
    "    def CalculateForHuman(self):\n",
    "        self.humanAge = self.yas * self.multiplier\n",
    "        print(self.humanAge)"
   ]
  },
  {
   "cell_type": "code",
   "execution_count": 45,
   "id": "3136202e",
   "metadata": {},
   "outputs": [],
   "source": [
    "kopek1 = Kopek(4)"
   ]
  },
  {
   "cell_type": "code",
   "execution_count": 46,
   "id": "30b7036b",
   "metadata": {},
   "outputs": [
    {
     "name": "stdout",
     "output_type": "stream",
     "text": [
      "28\n"
     ]
    }
   ],
   "source": [
    "kopek1.CalculateForHuman()"
   ]
  },
  {
   "cell_type": "markdown",
   "id": "f75d6498",
   "metadata": {},
   "source": [
    "# inheritance"
   ]
  },
  {
   "cell_type": "code",
   "execution_count": 52,
   "id": "fe97c7b8",
   "metadata": {},
   "outputs": [],
   "source": [
    "class Hayvan():\n",
    "    def __init__(self):\n",
    "        print(\"Object Created!\")\n",
    "    def method1(self):\n",
    "        print(\"Method1!\")\n",
    "    def method2(self):\n",
    "        print(\"Method2!\")"
   ]
  },
  {
   "cell_type": "code",
   "execution_count": 53,
   "id": "5281bfe5",
   "metadata": {},
   "outputs": [
    {
     "name": "stdout",
     "output_type": "stream",
     "text": [
      "Object Created!\n"
     ]
    }
   ],
   "source": [
    "myAnimal = Hayvan()"
   ]
  },
  {
   "cell_type": "code",
   "execution_count": 54,
   "id": "717c6fd7",
   "metadata": {},
   "outputs": [
    {
     "name": "stdout",
     "output_type": "stream",
     "text": [
      "Method1!\n"
     ]
    }
   ],
   "source": [
    "myAnimal.method1()"
   ]
  },
  {
   "cell_type": "code",
   "execution_count": 56,
   "id": "c785fc7d",
   "metadata": {},
   "outputs": [],
   "source": [
    "class Kedi(Hayvan):\n",
    "    def __init__(self):\n",
    "        Hayvan.__init__(self)\n",
    "        print(\"Kedi sınıf okeylendi!\")"
   ]
  },
  {
   "cell_type": "code",
   "execution_count": 58,
   "id": "af554d0c",
   "metadata": {},
   "outputs": [
    {
     "name": "stdout",
     "output_type": "stream",
     "text": [
      "Object Created!\n",
      "Kedi sınıf okeylendi!\n"
     ]
    }
   ],
   "source": [
    "benimKedim = Kedi()"
   ]
  },
  {
   "cell_type": "code",
   "execution_count": 59,
   "id": "20467194",
   "metadata": {},
   "outputs": [
    {
     "name": "stdout",
     "output_type": "stream",
     "text": [
      "Method1!\n"
     ]
    }
   ],
   "source": [
    "benimKedim.method1()"
   ]
  },
  {
   "cell_type": "code",
   "execution_count": null,
   "id": "a1102342",
   "metadata": {},
   "outputs": [],
   "source": []
  }
 ],
 "metadata": {
  "kernelspec": {
   "display_name": "Python 3 (ipykernel)",
   "language": "python",
   "name": "python3"
  },
  "language_info": {
   "codemirror_mode": {
    "name": "ipython",
    "version": 3
   },
   "file_extension": ".py",
   "mimetype": "text/x-python",
   "name": "python",
   "nbconvert_exporter": "python",
   "pygments_lexer": "ipython3",
   "version": "3.9.13"
  }
 },
 "nbformat": 4,
 "nbformat_minor": 5
}

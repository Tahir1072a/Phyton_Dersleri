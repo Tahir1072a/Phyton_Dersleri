{
 "cells": [
  {
   "cell_type": "code",
   "execution_count": 10,
   "id": "26ce89e3",
   "metadata": {},
   "outputs": [],
   "source": [
    "def MyFunction(x,y = 10):\n",
    "    return x*y"
   ]
  },
  {
   "cell_type": "code",
   "execution_count": 11,
   "id": "75b556c8",
   "metadata": {},
   "outputs": [
    {
     "data": {
      "text/plain": [
       "250"
      ]
     },
     "execution_count": 11,
     "metadata": {},
     "output_type": "execute_result"
    }
   ],
   "source": [
    "MyFunction(25)"
   ]
  },
  {
   "cell_type": "markdown",
   "id": "4934ce38",
   "metadata": {},
   "source": [
    "# args - kwargs"
   ]
  },
  {
   "cell_type": "code",
   "execution_count": 12,
   "id": "7629be14",
   "metadata": {},
   "outputs": [],
   "source": [
    "def Toplama(*args):\n",
    "    return sum(args)"
   ]
  },
  {
   "cell_type": "code",
   "execution_count": 15,
   "id": "1fc4aac8",
   "metadata": {},
   "outputs": [
    {
     "data": {
      "text/plain": [
       "2977"
      ]
     },
     "execution_count": 15,
     "metadata": {},
     "output_type": "execute_result"
    }
   ],
   "source": [
    "Toplama(20,34,21,553,2311,34,4)"
   ]
  },
  {
   "cell_type": "code",
   "execution_count": 16,
   "id": "e50f2108",
   "metadata": {},
   "outputs": [],
   "source": [
    "def ornek(**kwargs):\n",
    "    print(kwargs)"
   ]
  },
  {
   "cell_type": "code",
   "execution_count": 23,
   "id": "0874b3c9",
   "metadata": {},
   "outputs": [
    {
     "name": "stdout",
     "output_type": "stream",
     "text": [
      "{'muz': 10, 'elma': 20}\n"
     ]
    }
   ],
   "source": [
    "ornek(muz = 10,elma = 20)"
   ]
  },
  {
   "cell_type": "markdown",
   "id": "2022342c",
   "metadata": {},
   "source": []
  }
 ],
 "metadata": {
  "kernelspec": {
   "display_name": "Python 3 (ipykernel)",
   "language": "python",
   "name": "python3"
  },
  "language_info": {
   "codemirror_mode": {
    "name": "ipython",
    "version": 3
   },
   "file_extension": ".py",
   "mimetype": "text/x-python",
   "name": "python",
   "nbconvert_exporter": "python",
   "pygments_lexer": "ipython3",
   "version": "3.9.13"
  }
 },
 "nbformat": 4,
 "nbformat_minor": 5
}

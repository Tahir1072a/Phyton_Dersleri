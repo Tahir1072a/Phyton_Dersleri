{
 "cells": [
  {
   "cell_type": "code",
   "execution_count": 1,
   "id": "740cfdff",
   "metadata": {},
   "outputs": [],
   "source": [
    "listem = [1,2,4,5,4,4,5,1,2,3,22,1]"
   ]
  },
  {
   "cell_type": "code",
   "execution_count": 2,
   "id": "645c68ab",
   "metadata": {},
   "outputs": [
    {
     "name": "stdout",
     "output_type": "stream",
     "text": [
      "{1, 2, 3, 4, 5, 22}\n"
     ]
    }
   ],
   "source": [
    "mySet = set(listem)\n",
    "print(mySet)"
   ]
  },
  {
   "cell_type": "markdown",
   "id": "4351a6a4",
   "metadata": {},
   "source": [
    "Setler tekrar eden değerleri tekrar edecek şekilde saklamaz. Sadece tekil değerleri saklar."
   ]
  },
  {
   "cell_type": "code",
   "execution_count": 5,
   "id": "b7fa25af",
   "metadata": {},
   "outputs": [
    {
     "name": "stdout",
     "output_type": "stream",
     "text": [
      "{1, 2, 3}\n"
     ]
    }
   ],
   "source": [
    "mySet = {1,2,3}\n",
    "print(mySet)"
   ]
  },
  {
   "cell_type": "code",
   "execution_count": 6,
   "id": "59e1e9d0",
   "metadata": {},
   "outputs": [
    {
     "data": {
      "text/plain": [
       "set"
      ]
     },
     "execution_count": 6,
     "metadata": {},
     "output_type": "execute_result"
    }
   ],
   "source": [
    "type(mySet)"
   ]
  },
  {
   "cell_type": "code",
   "execution_count": 12,
   "id": "59b766d3",
   "metadata": {},
   "outputs": [
    {
     "data": {
      "text/plain": [
       "set"
      ]
     },
     "execution_count": 12,
     "metadata": {},
     "output_type": "execute_result"
    }
   ],
   "source": [
    "mySet2 = set()\n",
    "type(mySet2)"
   ]
  },
  {
   "cell_type": "code",
   "execution_count": 14,
   "id": "bd0e6d36",
   "metadata": {},
   "outputs": [],
   "source": [
    "mySet2 = {12,0}"
   ]
  },
  {
   "cell_type": "code",
   "execution_count": 15,
   "id": "42dca627",
   "metadata": {},
   "outputs": [],
   "source": [
    "mySet2.add(11)"
   ]
  },
  {
   "cell_type": "code",
   "execution_count": 16,
   "id": "ac83f200",
   "metadata": {},
   "outputs": [
    {
     "name": "stdout",
     "output_type": "stream",
     "text": [
      "{0, 11, 12}\n"
     ]
    }
   ],
   "source": [
    "print(mySet2)"
   ]
  },
  {
   "cell_type": "markdown",
   "id": "95740521",
   "metadata": {},
   "source": [
    "# Tuple"
   ]
  },
  {
   "cell_type": "code",
   "execution_count": 17,
   "id": "4ccd29aa",
   "metadata": {},
   "outputs": [
    {
     "name": "stdout",
     "output_type": "stream",
     "text": [
      "(0, 1, 2, 'a', 'b')\n"
     ]
    }
   ],
   "source": [
    "myTuple = (0,1,2,\"a\",\"b\")\n",
    "print(myTuple)"
   ]
  },
  {
   "cell_type": "code",
   "execution_count": 18,
   "id": "7969a346",
   "metadata": {},
   "outputs": [
    {
     "data": {
      "text/plain": [
       "0"
      ]
     },
     "execution_count": 18,
     "metadata": {},
     "output_type": "execute_result"
    }
   ],
   "source": [
    "myTuple[0]"
   ]
  },
  {
   "cell_type": "code",
   "execution_count": 20,
   "id": "8612d882",
   "metadata": {},
   "outputs": [],
   "source": [
    "#myTuple[0] = 10"
   ]
  },
  {
   "cell_type": "markdown",
   "id": "48d6cd46",
   "metadata": {},
   "source": [
    "Yukarıdaki kod çalıştırılırsa hata verecektir. Tuple, listelere benzese de listeler gibi indexk değerini vererek değiştiremeyiz. Yani tuple değiştirilemezdir"
   ]
  },
  {
   "cell_type": "code",
   "execution_count": 22,
   "id": "781f1d20",
   "metadata": {},
   "outputs": [
    {
     "data": {
      "text/plain": [
       "1"
      ]
     },
     "execution_count": 22,
     "metadata": {},
     "output_type": "execute_result"
    }
   ],
   "source": [
    "myTuple.count(\"a\")"
   ]
  },
  {
   "cell_type": "markdown",
   "id": "b2ef02b4",
   "metadata": {},
   "source": [
    "Tuple de kullanılabailcek metot neredeyse yoktur. Kısaca değiştirilemeyen sabit listeler diyebilir."
   ]
  },
  {
   "cell_type": "code",
   "execution_count": null,
   "id": "bbdd71c0",
   "metadata": {},
   "outputs": [],
   "source": []
  }
 ],
 "metadata": {
  "kernelspec": {
   "display_name": "Python 3 (ipykernel)",
   "language": "python",
   "name": "python3"
  },
  "language_info": {
   "codemirror_mode": {
    "name": "ipython",
    "version": 3
   },
   "file_extension": ".py",
   "mimetype": "text/x-python",
   "name": "python",
   "nbconvert_exporter": "python",
   "pygments_lexer": "ipython3",
   "version": "3.9.13"
  }
 },
 "nbformat": 4,
 "nbformat_minor": 5
}

{
 "cells": [
  {
   "cell_type": "code",
   "execution_count": 62,
   "id": "f105c802",
   "metadata": {},
   "outputs": [
    {
     "name": "stdout",
     "output_type": "stream",
     "text": [
      "<class 'int'>\n",
      "<class 'str'>\n"
     ]
    }
   ],
   "source": [
    "x = 10\n",
    "y = \"Tahiri\"\n",
    "print(type(x))\n",
    "print(type(y))"
   ]
  },
  {
   "cell_type": "markdown",
   "id": "d55dacb5",
   "metadata": {},
   "source": [
    "type ile değişken türünü öğrenebiliriz"
   ]
  },
  {
   "cell_type": "code",
   "execution_count": 63,
   "id": "0d150442",
   "metadata": {},
   "outputs": [
    {
     "data": {
      "text/plain": [
       "15.600000000000001"
      ]
     },
     "execution_count": 63,
     "metadata": {},
     "output_type": "execute_result"
    }
   ],
   "source": [
    "a = 5\n",
    "b = 3.12\n",
    "a * b"
   ]
  },
  {
   "cell_type": "markdown",
   "id": "f1d67de5",
   "metadata": {},
   "source": [
    "Phytonda da aynı c# da olduğu gibi float ve int tipi vardır."
   ]
  },
  {
   "cell_type": "markdown",
   "id": "71359588",
   "metadata": {},
   "source": [
    "# Matematiksel İşlemler"
   ]
  },
  {
   "cell_type": "code",
   "execution_count": 64,
   "id": "c1a94754",
   "metadata": {},
   "outputs": [],
   "source": [
    "x = 10\n",
    "pi = 3.14"
   ]
  },
  {
   "cell_type": "code",
   "execution_count": 65,
   "id": "ca78c76f",
   "metadata": {},
   "outputs": [
    {
     "data": {
      "text/plain": [
       "100"
      ]
     },
     "execution_count": 65,
     "metadata": {},
     "output_type": "execute_result"
    }
   ],
   "source": [
    "x * x"
   ]
  },
  {
   "cell_type": "code",
   "execution_count": 66,
   "id": "8c55a2df",
   "metadata": {},
   "outputs": [
    {
     "data": {
      "text/plain": [
       "1000"
      ]
     },
     "execution_count": 66,
     "metadata": {},
     "output_type": "execute_result"
    }
   ],
   "source": [
    "x * x * x"
   ]
  },
  {
   "cell_type": "code",
   "execution_count": 67,
   "id": "7bfa001e",
   "metadata": {},
   "outputs": [
    {
     "data": {
      "text/plain": [
       "1000"
      ]
     },
     "execution_count": 67,
     "metadata": {},
     "output_type": "execute_result"
    }
   ],
   "source": [
    "x ** 3"
   ]
  },
  {
   "cell_type": "markdown",
   "id": "5850d87d",
   "metadata": {},
   "source": [
    "Çift yıldız ile üst alma işlemi yapılabilir phytonda"
   ]
  },
  {
   "cell_type": "code",
   "execution_count": 68,
   "id": "e956d2e5",
   "metadata": {},
   "outputs": [
    {
     "name": "stdout",
     "output_type": "stream",
     "text": [
      "Kullanici yasini giriniz20\n",
      "63.69426751592356\n"
     ]
    }
   ],
   "source": [
    "age = float(input(\"Kullanici yasini giriniz\"))\n",
    "print((age * 10) / pi)"
   ]
  },
  {
   "cell_type": "markdown",
   "id": "f20aa741",
   "metadata": {},
   "source": [
    "int() veya float() şeklinde type cast işlemi yapılabilir."
   ]
  },
  {
   "cell_type": "markdown",
   "id": "742e9da0",
   "metadata": {},
   "source": [
    "# Strings"
   ]
  },
  {
   "cell_type": "code",
   "execution_count": 69,
   "id": "f7ba4d13",
   "metadata": {},
   "outputs": [
    {
     "name": "stdout",
     "output_type": "stream",
     "text": [
      "Tahiri Fidan ve Ayşe Rana\n"
     ]
    }
   ],
   "source": [
    "name = \"Tahiri Fidan ve Ayşe Rana\"\n",
    "print(name)"
   ]
  },
  {
   "cell_type": "code",
   "execution_count": 70,
   "id": "298b7063",
   "metadata": {},
   "outputs": [
    {
     "data": {
      "text/plain": [
       "'Tahiri fidan ve ayşe rana'"
      ]
     },
     "execution_count": 70,
     "metadata": {},
     "output_type": "execute_result"
    }
   ],
   "source": [
    "name.capitalize()"
   ]
  },
  {
   "cell_type": "markdown",
   "id": "cb255e0d",
   "metadata": {},
   "source": [
    "capitalize() : Bu fonksiyon büyük harf ile başlatır."
   ]
  },
  {
   "cell_type": "code",
   "execution_count": 71,
   "id": "abd501b8",
   "metadata": {},
   "outputs": [
    {
     "data": {
      "text/plain": [
       "['Tahiri', 'Fidan', 've', 'Ayşe', 'Rana']"
      ]
     },
     "execution_count": 71,
     "metadata": {},
     "output_type": "execute_result"
    }
   ],
   "source": [
    "name.split()"
   ]
  },
  {
   "cell_type": "markdown",
   "id": "49207186",
   "metadata": {},
   "source": [
    "split() : String ifadeyi ayırır ve liste de saklar."
   ]
  },
  {
   "cell_type": "code",
   "execution_count": 72,
   "id": "136fb760",
   "metadata": {},
   "outputs": [
    {
     "data": {
      "text/plain": [
       "25"
      ]
     },
     "execution_count": 72,
     "metadata": {},
     "output_type": "execute_result"
    }
   ],
   "source": [
    "len(name)"
   ]
  },
  {
   "cell_type": "markdown",
   "id": "e5e79ea4",
   "metadata": {},
   "source": [
    "len() : Bize string'in uzunluğu verir "
   ]
  },
  {
   "cell_type": "code",
   "execution_count": 73,
   "id": "db490652",
   "metadata": {},
   "outputs": [
    {
     "name": "stdout",
     "output_type": "stream",
     "text": [
      "a\n",
      "a\n"
     ]
    }
   ],
   "source": [
    "name[0]\n",
    "print(name[len(name) - 1])\n",
    "print(name[-1])"
   ]
  },
  {
   "cell_type": "markdown",
   "id": "508fb76b",
   "metadata": {},
   "source": [
    "Bir dizi gibi stringleri de bu şekilde indexleyebiliriz.\n",
    "Ayrıca -1 gibi -1 ile numalandırırsak dizinin sonundan başlar"
   ]
  },
  {
   "cell_type": "code",
   "execution_count": 74,
   "id": "45234277",
   "metadata": {},
   "outputs": [
    {
     "name": "stdout",
     "output_type": "stream",
     "text": [
      "i Fidan ve Ayşe Rana\n",
      "i Fid\n",
      "Tahir\n",
      "na\n",
      "Tahiri Fidan ve Ayşe Ra\n"
     ]
    }
   ],
   "source": [
    "print(name[5:])\n",
    "print(name[5:10])\n",
    "print(name[:5])\n",
    "print(name[-2:])\n",
    "print(name[:-2])"
   ]
  },
  {
   "cell_type": "markdown",
   "id": "b09c7d4d",
   "metadata": {},
   "source": [
    "[Başlangıç İndesksi]:[Durdurma İndeksi] bu operatör kullanılarak çeşitli veri manipülasyonları yapılabilir."
   ]
  },
  {
   "cell_type": "code",
   "execution_count": 75,
   "id": "c5508fca",
   "metadata": {},
   "outputs": [
    {
     "name": "stdout",
     "output_type": "stream",
     "text": [
      "arFav\n"
     ]
    }
   ],
   "source": [
    "print(name[1:15:3])"
   ]
  },
  {
   "cell_type": "markdown",
   "id": "0df8024a",
   "metadata": {},
   "source": [
    ": :[Step Size](Atlama indeksi), buraya string'in kaçar kaçar sayılmasını istiyorsak onu gireriz."
   ]
  },
  {
   "cell_type": "code",
   "execution_count": 76,
   "id": "67151279",
   "metadata": {},
   "outputs": [
    {
     "name": "stdout",
     "output_type": "stream",
     "text": [
      "anaR eşyA ev nadiF irihaT\n"
     ]
    }
   ],
   "source": [
    "print(name[::-1])"
   ]
  },
  {
   "cell_type": "markdown",
   "id": "bb4fa027",
   "metadata": {},
   "source": [
    "stringi tam tersten yazdırır."
   ]
  },
  {
   "cell_type": "markdown",
   "id": "ca254523",
   "metadata": {},
   "source": [
    "### String Metotları"
   ]
  },
  {
   "cell_type": "markdown",
   "id": "b927c219",
   "metadata": {},
   "source": [
    "Burada string veri tipine özel metotlar gösteriliyor. Her birinin tek tek açıklaması yerine anlaşılır örnekler yeterli görülmüştür."
   ]
  },
  {
   "cell_type": "code",
   "execution_count": 77,
   "id": "5047317d",
   "metadata": {},
   "outputs": [
    {
     "data": {
      "text/plain": [
       "'TAHIRI FIDAN VE AYŞE RANA'"
      ]
     },
     "execution_count": 77,
     "metadata": {},
     "output_type": "execute_result"
    }
   ],
   "source": [
    "name.upper()"
   ]
  },
  {
   "cell_type": "code",
   "execution_count": 78,
   "id": "6d1128f5",
   "metadata": {},
   "outputs": [
    {
     "data": {
      "text/plain": [
       "'Tahiri Fidan ve Ayşe RanaTahiri Fidan ve Ayşe Rana'"
      ]
     },
     "execution_count": 78,
     "metadata": {},
     "output_type": "execute_result"
    }
   ],
   "source": [
    "name * 2"
   ]
  },
  {
   "cell_type": "code",
   "execution_count": 80,
   "id": "59fdbd23",
   "metadata": {},
   "outputs": [
    {
     "data": {
      "text/plain": [
       "'Tahiri Fidan ve Ayşe Rana \\\\ Tahiri Fidan ve Ayşe Rana'"
      ]
     },
     "execution_count": 80,
     "metadata": {},
     "output_type": "execute_result"
    }
   ],
   "source": [
    "name + \" \\\\ \" + name"
   ]
  },
  {
   "cell_type": "code",
   "execution_count": null,
   "id": "6a724016",
   "metadata": {},
   "outputs": [],
   "source": []
  }
 ],
 "metadata": {
  "kernelspec": {
   "display_name": "Python 3 (ipykernel)",
   "language": "python",
   "name": "python3"
  },
  "language_info": {
   "codemirror_mode": {
    "name": "ipython",
    "version": 3
   },
   "file_extension": ".py",
   "mimetype": "text/x-python",
   "name": "python",
   "nbconvert_exporter": "python",
   "pygments_lexer": "ipython3",
   "version": "3.9.13"
  }
 },
 "nbformat": 4,
 "nbformat_minor": 5
}
